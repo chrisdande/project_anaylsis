{
 "cells": [
  {
   "cell_type": "markdown",
   "metadata": {},
   "source": [
    "# Table of content features\n",
    "## Import my libraries"
   ]
  },
  {
   "cell_type": "code",
   "execution_count": 1,
   "metadata": {},
   "outputs": [
    {
     "name": "stderr",
     "output_type": "stream",
     "text": [
      "C:\\Users\\chris\\Anaconda3\\lib\\site-packages\\statsmodels\\tools\\_testing.py:19: FutureWarning: pandas.util.testing is deprecated. Use the functions in the public API at pandas.testing instead.\n",
      "  import pandas.util.testing as tm\n"
     ]
    }
   ],
   "source": [
    "import numpy as np\n",
    "import pandas as pd\n",
    "from pandas import Series,DataFrame\n",
    "from numpy.random import randn\n",
    "# Import the stats library from numpy\n",
    "from scipy import stats\n",
    "import datetime as date\n",
    "# These are the plotting modules adn libraries we'll use:\n",
    "import matplotlib as mpl\n",
    "import matplotlib.pyplot as plt\n",
    "import seaborn as sns\n",
    "# Command so that plots appear in the iPython Notebook\n",
    "%matplotlib inline"
   ]
  },
  {
   "cell_type": "markdown",
   "metadata": {},
   "source": [
    "## get the data and inspect"
   ]
  },
  {
   "cell_type": "code",
   "execution_count": 2,
   "metadata": {},
   "outputs": [],
   "source": [
    "main_df = pd.read_csv('https://raw.githubusercontent.com/aaronmcdaid/P2---Data-Analytics-With-Python/master/Berlin/WS%202019/5.%20Datasets/preject_datasets/main.csv')\n",
    "product_df = pd.read_csv('https://raw.githubusercontent.com/aaronmcdaid/P2---Data-Analytics-With-Python/master/Berlin/WS%202019/5.%20Datasets/preject_datasets/product.csv')\n",
    "attribution_df = pd.read_csv('https://raw.githubusercontent.com/aaronmcdaid/P2---Data-Analytics-With-Python/master/Berlin/WS%202019/5.%20Datasets/preject_datasets/attribution.csv')\n",
    "user_article_df = pd.read_csv('https://raw.githubusercontent.com/aaronmcdaid/P2---Data-Analytics-With-Python/master/Berlin/WS%202019/5.%20Datasets/preject_datasets/user_article.csv')"
   ]
  },
  {
   "cell_type": "code",
   "execution_count": 3,
   "metadata": {},
   "outputs": [
    {
     "data": {
      "text/html": [
       "<div>\n",
       "<style scoped>\n",
       "    .dataframe tbody tr th:only-of-type {\n",
       "        vertical-align: middle;\n",
       "    }\n",
       "\n",
       "    .dataframe tbody tr th {\n",
       "        vertical-align: top;\n",
       "    }\n",
       "\n",
       "    .dataframe thead th {\n",
       "        text-align: right;\n",
       "    }\n",
       "</style>\n",
       "<table border=\"1\" class=\"dataframe\">\n",
       "  <thead>\n",
       "    <tr style=\"text-align: right;\">\n",
       "      <th></th>\n",
       "      <th>user_id</th>\n",
       "      <th>birth_day</th>\n",
       "      <th>birth_month</th>\n",
       "      <th>birth_year</th>\n",
       "      <th>location</th>\n",
       "      <th>gender</th>\n",
       "    </tr>\n",
       "  </thead>\n",
       "  <tbody>\n",
       "    <tr>\n",
       "      <th>0</th>\n",
       "      <td>1236805</td>\n",
       "      <td>26</td>\n",
       "      <td>2</td>\n",
       "      <td>1997</td>\n",
       "      <td>Los Angeles</td>\n",
       "      <td>M</td>\n",
       "    </tr>\n",
       "    <tr>\n",
       "      <th>1</th>\n",
       "      <td>2836384</td>\n",
       "      <td>13</td>\n",
       "      <td>2</td>\n",
       "      <td>1992</td>\n",
       "      <td>New York</td>\n",
       "      <td>M</td>\n",
       "    </tr>\n",
       "    <tr>\n",
       "      <th>2</th>\n",
       "      <td>5118289</td>\n",
       "      <td>28</td>\n",
       "      <td>2</td>\n",
       "      <td>1990</td>\n",
       "      <td>Rockville</td>\n",
       "      <td>F</td>\n",
       "    </tr>\n",
       "    <tr>\n",
       "      <th>3</th>\n",
       "      <td>2497066</td>\n",
       "      <td>12</td>\n",
       "      <td>2</td>\n",
       "      <td>2002</td>\n",
       "      <td>Middletown</td>\n",
       "      <td>M</td>\n",
       "    </tr>\n",
       "    <tr>\n",
       "      <th>4</th>\n",
       "      <td>2542664</td>\n",
       "      <td>5</td>\n",
       "      <td>2</td>\n",
       "      <td>1990</td>\n",
       "      <td>Weehawken</td>\n",
       "      <td>M</td>\n",
       "    </tr>\n",
       "  </tbody>\n",
       "</table>\n",
       "</div>"
      ],
      "text/plain": [
       "   user_id  birth_day  birth_month  birth_year     location gender\n",
       "0  1236805         26            2        1997  Los Angeles      M\n",
       "1  2836384         13            2        1992     New York      M\n",
       "2  5118289         28            2        1990    Rockville      F\n",
       "3  2497066         12            2        2002   Middletown      M\n",
       "4  2542664          5            2        1990    Weehawken      M"
      ]
     },
     "execution_count": 3,
     "metadata": {},
     "output_type": "execute_result"
    }
   ],
   "source": [
    "main_df.head()\n",
    "#product_df.nunique()\n",
    "#attribution_df.shape\n",
    "#user_article_df.shape\n"
   ]
  },
  {
   "cell_type": "markdown",
   "metadata": {},
   "source": [
    "The user_atricle_df has only 25543 unique id while other dataset has 50,000.Understanding this is important.lets merge manually\n"
   ]
  },
  {
   "cell_type": "code",
   "execution_count": 87,
   "metadata": {},
   "outputs": [],
   "source": [
    "main_attribution = main_df.merge(attribution_df)\n",
    "main_attribution.head()\n",
    "main_attribution_product = main_attribution.merge(product_df)\n",
    "all_data = main_attribution_product.merge(user_article_df)\n",
    "\n",
    "\n",
    "#Now we have all data set. lets proceed with solves the questions\n"
   ]
  },
  {
   "cell_type": "markdown",
   "metadata": {},
   "source": [
    "-Who are our customers?   (gender,  age, where from?)                                         \n",
    "-Where and what are we selling the most?  (locations, products)                                             \n",
    "-Can you identify some reading patterns?  (times a day, days a week, how many times a \n",
    "-user goes back to an article,  most liked/read articles)  \n",
    "-What is the correlation between article reading length - liked - times read?   \n",
    "-Summarise your findings in a presentation aimed at the start up where you will tell them \n",
    "-what you found and what would be your recommendations for them.  \n",
    "-Bonus - Which marketing channels are performing well?  \n"
   ]
  },
  {
   "cell_type": "markdown",
   "metadata": {},
   "source": [
    "## Expanding the dataset for insights that we need\n",
    "I would start by expanding my data to include all information that i will need. get the age of customers, convert the date \n",
    "to pd.datetime, open up the article_info column etc. \n"
   ]
  },
  {
   "cell_type": "markdown",
   "metadata": {},
   "source": [
    "### Add a column for age. \n",
    "define a function to calculate age."
   ]
  },
  {
   "cell_type": "code",
   "execution_count": 88,
   "metadata": {},
   "outputs": [],
   "source": [
    "def age(birth_year):\n",
    "    for y in main_df.birth_year:\n",
    "        y= birth_year        \n",
    "        age = 2020 - y   \n",
    "    return age"
   ]
  },
  {
   "cell_type": "markdown",
   "metadata": {},
   "source": [
    "### Add a colums for the age group. \n",
    "define a function to split customer into teens,adults or senior citizens\n",
    "\n"
   ]
  },
  {
   "cell_type": "code",
   "execution_count": 89,
   "metadata": {},
   "outputs": [],
   "source": [
    "def agegroup(n):\n",
    "    if n < 19:\n",
    "        return 'Teens'\n",
    "    elif n >= 19 and n<45:\n",
    "        return 'Adult'\n",
    "    else:\n",
    "        return 'Seniors'"
   ]
  },
  {
   "cell_type": "markdown",
   "metadata": {},
   "source": [
    "### Unpack the article info column \n",
    " define a function to unpack"
   ]
  },
  {
   "cell_type": "code",
   "execution_count": 90,
   "metadata": {},
   "outputs": [],
   "source": [
    "\n",
    "def split_list(list_):\n",
    "  return pd.Series(list_.replace('[', '').replace(']', '').split(','))\n",
    "\n"
   ]
  },
  {
   "cell_type": "markdown",
   "metadata": {},
   "source": [
    "#### A new dataframe for the unpacked article_info \n"
   ]
  },
  {
   "cell_type": "code",
   "execution_count": 91,
   "metadata": {},
   "outputs": [],
   "source": [
    "all_data_art_info = all_data.article_info.apply(split_list)"
   ]
  },
  {
   "cell_type": "markdown",
   "metadata": {},
   "source": [
    "#### Joining the 2 dataset \n"
   ]
  },
  {
   "cell_type": "code",
   "execution_count": 92,
   "metadata": {},
   "outputs": [],
   "source": [
    "all_data= pd.concat([all_data,all_data_art_info],axis =1)\n"
   ]
  },
  {
   "cell_type": "markdown",
   "metadata": {},
   "source": [
    "#### Rename the columns\n"
   ]
  },
  {
   "cell_type": "code",
   "execution_count": 93,
   "metadata": {},
   "outputs": [],
   "source": [
    "all_data.rename(columns={0:'art_cat',1:'art_id', 2: 'read_times'},inplace = True)\n"
   ]
  },
  {
   "cell_type": "markdown",
   "metadata": {},
   "source": [
    "### converting\n",
    "the datetime column from a string to a date and also the read_time to interger(to help us sum the readtime)\n"
   ]
  },
  {
   "cell_type": "code",
   "execution_count": 94,
   "metadata": {},
   "outputs": [],
   "source": [
    "all_data['read_minutes'] = pd.to_numeric(all_data.read_times)\n",
    "all_data['datetime'] = pd.to_datetime(all_data['datetime'],errors='coerce')\n"
   ]
  },
  {
   "cell_type": "markdown",
   "metadata": {},
   "source": [
    "### Breaking the datetime columns into hour, day ,week ,month for better flitering\n"
   ]
  },
  {
   "cell_type": "code",
   "execution_count": 95,
   "metadata": {},
   "outputs": [],
   "source": [
    "all_data['hour'] = all_data['datetime'].dt.hour\n",
    "all_data['day'] = all_data.datetime.dt.day_name()\n",
    "all_data['week'] = all_data.datetime.dt.weekofyear\n",
    "all_data['month'] = all_data.datetime.dt.month_name()"
   ]
  },
  {
   "cell_type": "markdown",
   "metadata": {},
   "source": [
    "### Prices and cost\n",
    "####  prices of product on a column."
   ]
  },
  {
   "cell_type": "code",
   "execution_count": 96,
   "metadata": {},
   "outputs": [],
   "source": [
    "prices = {'1M':12.99,'3M':32.99,'6M':53.99,'12M':83.99}\n",
    "all_data['prices'] = all_data['product'].map(prices)"
   ]
  },
  {
   "cell_type": "markdown",
   "metadata": {},
   "source": [
    "#### cost calculation"
   ]
  },
  {
   "cell_type": "markdown",
   "metadata": {},
   "source": [
    "CAC for marketing channels\n",
    "marketing_budget_split = \n",
    "{'Criteo':185000,'TV':30000,'Facebook':550000,'Adwords':40000,'Instagram':700000,\n",
    " 'Partner':'25% Share of first subscription price with minimum of 5 euros'}\n",
    " \n",
    " \n",
    "the total cost for partner program = sum(0.25 of subscrition of user gotten via the  partner partner program.)\n"
   ]
  },
  {
   "cell_type": "code",
   "execution_count": 97,
   "metadata": {},
   "outputs": [],
   "source": [
    "costmap = {'1M':3.2475,'3M':8.2475,'6M':13.4975,'12M':20.9975} #> this is the 0.25 of the subscription"
   ]
  },
  {
   "cell_type": "markdown",
   "metadata": {},
   "source": [
    "Now _ what is total for partner?"
   ]
  },
  {
   "cell_type": "code",
   "execution_count": 98,
   "metadata": {},
   "outputs": [
    {
     "name": "stderr",
     "output_type": "stream",
     "text": [
      "C:\\Users\\chris\\Anaconda3\\lib\\site-packages\\ipykernel_launcher.py:2: SettingWithCopyWarning: \n",
      "A value is trying to be set on a copy of a slice from a DataFrame.\n",
      "Try using .loc[row_indexer,col_indexer] = value instead\n",
      "\n",
      "See the caveats in the documentation: https://pandas.pydata.org/pandas-docs/stable/user_guide/indexing.html#returning-a-view-versus-a-copy\n",
      "  \n"
     ]
    },
    {
     "data": {
      "text/plain": [
       "76051.395"
      ]
     },
     "execution_count": 98,
     "metadata": {},
     "output_type": "execute_result"
    }
   ],
   "source": [
    "partnerprogram = main_attribution_product[(main_attribution_product.attribution == 'Partner')]\n",
    "partnerprogram['cost'] = partnerprogram['product'].map(costmap)\n",
    "partnerprogram['cost'].sum()   \n",
    "\n",
    "#>>>>>  the total cost of the partner program is 76051.395\n"
   ]
  },
  {
   "cell_type": "markdown",
   "metadata": {},
   "source": [
    "Now we have the total cost per channel is \n",
    "{'Criteo':185000,'TV':30000,'Facebook':550000,'Adwords':40000,'Instagram':700000,'Partner':76051.395}.\n",
    "Let get users per channel\n"
   ]
  },
  {
   "cell_type": "code",
   "execution_count": 99,
   "metadata": {},
   "outputs": [
    {
     "data": {
      "text/html": [
       "<div>\n",
       "<style scoped>\n",
       "    .dataframe tbody tr th:only-of-type {\n",
       "        vertical-align: middle;\n",
       "    }\n",
       "\n",
       "    .dataframe tbody tr th {\n",
       "        vertical-align: top;\n",
       "    }\n",
       "\n",
       "    .dataframe thead th {\n",
       "        text-align: right;\n",
       "    }\n",
       "</style>\n",
       "<table border=\"1\" class=\"dataframe\">\n",
       "  <thead>\n",
       "    <tr style=\"text-align: right;\">\n",
       "      <th></th>\n",
       "      <th>user_id</th>\n",
       "    </tr>\n",
       "    <tr>\n",
       "      <th>attribution</th>\n",
       "      <th></th>\n",
       "    </tr>\n",
       "  </thead>\n",
       "  <tbody>\n",
       "    <tr>\n",
       "      <th>Adwords</th>\n",
       "      <td>5997</td>\n",
       "    </tr>\n",
       "    <tr>\n",
       "      <th>Criteo</th>\n",
       "      <td>4672</td>\n",
       "    </tr>\n",
       "    <tr>\n",
       "      <th>Facebook</th>\n",
       "      <td>14400</td>\n",
       "    </tr>\n",
       "    <tr>\n",
       "      <th>Friends Referral Program</th>\n",
       "      <td>2472</td>\n",
       "    </tr>\n",
       "    <tr>\n",
       "      <th>Instagram</th>\n",
       "      <td>15938</td>\n",
       "    </tr>\n",
       "    <tr>\n",
       "      <th>Partner</th>\n",
       "      <td>5942</td>\n",
       "    </tr>\n",
       "    <tr>\n",
       "      <th>TV</th>\n",
       "      <td>579</td>\n",
       "    </tr>\n",
       "  </tbody>\n",
       "</table>\n",
       "</div>"
      ],
      "text/plain": [
       "                          user_id\n",
       "attribution                      \n",
       "Adwords                      5997\n",
       "Criteo                       4672\n",
       "Facebook                    14400\n",
       "Friends Referral Program     2472\n",
       "Instagram                   15938\n",
       "Partner                      5942\n",
       "TV                            579"
      ]
     },
     "execution_count": 99,
     "metadata": {},
     "output_type": "execute_result"
    }
   ],
   "source": [
    "main_attribution_product.groupby(['attribution'])[['user_id']].count()"
   ]
  },
  {
   "cell_type": "markdown",
   "metadata": {},
   "source": [
    "I creat a map dictictionary for the cost_attr by dividing the total cost of each channel by number of user of each channel"
   ]
  },
  {
   "cell_type": "code",
   "execution_count": 100,
   "metadata": {},
   "outputs": [],
   "source": [
    "cost_attr = {'Criteo':185000/4672,'TV':30000/579,'Facebook':550000/14400,'Adwords':40000/5997,'Instagram':700000/15938,'Partner':76051.395/5942}"
   ]
  },
  {
   "cell_type": "code",
   "execution_count": 101,
   "metadata": {},
   "outputs": [],
   "source": [
    "all_data['cost_attr'] = all_data['attribution'].map(cost_attr)"
   ]
  },
  {
   "cell_type": "markdown",
   "metadata": {},
   "source": [
    "We have a created all we need in the all_data dataframe. but on inspection this frame. I notice that the frame has \n",
    "25542 users while the other frames has 50000.\n",
    "Using the main_attribution_product dataframe(50k sample) gives us more sample to explore user_based_questions. \n",
    "questions 1 & 2 for instance, and also CAC or revenue_per_user based questions.So i apply all these changes\n",
    "to the main_attribution_product only. see below>>>>>>>"
   ]
  },
  {
   "cell_type": "code",
   "execution_count": 102,
   "metadata": {},
   "outputs": [
    {
     "data": {
      "text/html": [
       "<div>\n",
       "<style scoped>\n",
       "    .dataframe tbody tr th:only-of-type {\n",
       "        vertical-align: middle;\n",
       "    }\n",
       "\n",
       "    .dataframe tbody tr th {\n",
       "        vertical-align: top;\n",
       "    }\n",
       "\n",
       "    .dataframe thead th {\n",
       "        text-align: right;\n",
       "    }\n",
       "</style>\n",
       "<table border=\"1\" class=\"dataframe\">\n",
       "  <thead>\n",
       "    <tr style=\"text-align: right;\">\n",
       "      <th></th>\n",
       "      <th>user_id</th>\n",
       "      <th>birth_day</th>\n",
       "      <th>birth_month</th>\n",
       "      <th>birth_year</th>\n",
       "      <th>location</th>\n",
       "      <th>gender</th>\n",
       "      <th>attribution</th>\n",
       "      <th>product</th>\n",
       "      <th>intervals</th>\n",
       "      <th>purchase_date</th>\n",
       "      <th>voucher</th>\n",
       "      <th>age</th>\n",
       "      <th>agegroup</th>\n",
       "      <th>prices</th>\n",
       "      <th>total_user_purchase</th>\n",
       "      <th>cost_attr</th>\n",
       "    </tr>\n",
       "  </thead>\n",
       "  <tbody>\n",
       "    <tr>\n",
       "      <th>0</th>\n",
       "      <td>1236805</td>\n",
       "      <td>26</td>\n",
       "      <td>2</td>\n",
       "      <td>1997</td>\n",
       "      <td>Los Angeles</td>\n",
       "      <td>M</td>\n",
       "      <td>Instagram</td>\n",
       "      <td>12M</td>\n",
       "      <td>1</td>\n",
       "      <td>11/7/2018 13:22</td>\n",
       "      <td>50.0</td>\n",
       "      <td>23</td>\n",
       "      <td>Adult</td>\n",
       "      <td>83.99</td>\n",
       "      <td>83.99</td>\n",
       "      <td>43.920191</td>\n",
       "    </tr>\n",
       "    <tr>\n",
       "      <th>1</th>\n",
       "      <td>2836384</td>\n",
       "      <td>13</td>\n",
       "      <td>2</td>\n",
       "      <td>1992</td>\n",
       "      <td>New York</td>\n",
       "      <td>M</td>\n",
       "      <td>Partner</td>\n",
       "      <td>6M</td>\n",
       "      <td>1</td>\n",
       "      <td>5/12/2018 11:29</td>\n",
       "      <td>NaN</td>\n",
       "      <td>28</td>\n",
       "      <td>Adult</td>\n",
       "      <td>53.99</td>\n",
       "      <td>53.99</td>\n",
       "      <td>12.798956</td>\n",
       "    </tr>\n",
       "    <tr>\n",
       "      <th>2</th>\n",
       "      <td>5118289</td>\n",
       "      <td>28</td>\n",
       "      <td>2</td>\n",
       "      <td>1990</td>\n",
       "      <td>Rockville</td>\n",
       "      <td>F</td>\n",
       "      <td>Partner</td>\n",
       "      <td>3M</td>\n",
       "      <td>3</td>\n",
       "      <td>5/31/2018 12:50</td>\n",
       "      <td>NaN</td>\n",
       "      <td>30</td>\n",
       "      <td>Adult</td>\n",
       "      <td>32.99</td>\n",
       "      <td>98.97</td>\n",
       "      <td>12.798956</td>\n",
       "    </tr>\n",
       "    <tr>\n",
       "      <th>3</th>\n",
       "      <td>2497066</td>\n",
       "      <td>12</td>\n",
       "      <td>2</td>\n",
       "      <td>2002</td>\n",
       "      <td>Middletown</td>\n",
       "      <td>M</td>\n",
       "      <td>Facebook</td>\n",
       "      <td>3M</td>\n",
       "      <td>5</td>\n",
       "      <td>11/16/2018 15:58</td>\n",
       "      <td>NaN</td>\n",
       "      <td>18</td>\n",
       "      <td>Teens</td>\n",
       "      <td>32.99</td>\n",
       "      <td>164.95</td>\n",
       "      <td>38.194444</td>\n",
       "    </tr>\n",
       "    <tr>\n",
       "      <th>4</th>\n",
       "      <td>2542664</td>\n",
       "      <td>5</td>\n",
       "      <td>2</td>\n",
       "      <td>1990</td>\n",
       "      <td>Weehawken</td>\n",
       "      <td>M</td>\n",
       "      <td>Facebook</td>\n",
       "      <td>3M</td>\n",
       "      <td>7</td>\n",
       "      <td>12/6/2018 12:26</td>\n",
       "      <td>50.0</td>\n",
       "      <td>30</td>\n",
       "      <td>Adult</td>\n",
       "      <td>32.99</td>\n",
       "      <td>230.93</td>\n",
       "      <td>38.194444</td>\n",
       "    </tr>\n",
       "  </tbody>\n",
       "</table>\n",
       "</div>"
      ],
      "text/plain": [
       "   user_id  birth_day  birth_month  birth_year     location gender  \\\n",
       "0  1236805         26            2        1997  Los Angeles      M   \n",
       "1  2836384         13            2        1992     New York      M   \n",
       "2  5118289         28            2        1990    Rockville      F   \n",
       "3  2497066         12            2        2002   Middletown      M   \n",
       "4  2542664          5            2        1990    Weehawken      M   \n",
       "\n",
       "  attribution product  intervals     purchase_date  voucher  age agegroup  \\\n",
       "0   Instagram     12M          1   11/7/2018 13:22     50.0   23    Adult   \n",
       "1     Partner      6M          1   5/12/2018 11:29      NaN   28    Adult   \n",
       "2     Partner      3M          3   5/31/2018 12:50      NaN   30    Adult   \n",
       "3    Facebook      3M          5  11/16/2018 15:58      NaN   18    Teens   \n",
       "4    Facebook      3M          7   12/6/2018 12:26     50.0   30    Adult   \n",
       "\n",
       "   prices  total_user_purchase  cost_attr  \n",
       "0   83.99                83.99  43.920191  \n",
       "1   53.99                53.99  12.798956  \n",
       "2   32.99                98.97  12.798956  \n",
       "3   32.99               164.95  38.194444  \n",
       "4   32.99               230.93  38.194444  "
      ]
     },
     "execution_count": 102,
     "metadata": {},
     "output_type": "execute_result"
    }
   ],
   "source": [
    "main_attribution_product['age'] = main_attribution_product.birth_year.apply(age).values\n",
    "main_attribution_product['agegroup'] = main_attribution_product.age.apply(agegroup).values\n",
    "main_attribution_product['prices'] = main_attribution_product['product'].map(prices)\n",
    "main_attribution_product['total_user_purchase'] = (main_attribution_product.prices*main_attribution_product.intervals)\n",
    "main_attribution_product['cost_attr'] = main_attribution_product['attribution'].map(cost_attr)\n",
    "main_attribution_product.head()"
   ]
  },
  {
   "cell_type": "code",
   "execution_count": 103,
   "metadata": {},
   "outputs": [
    {
     "data": {
      "text/html": [
       "<div>\n",
       "<style scoped>\n",
       "    .dataframe tbody tr th:only-of-type {\n",
       "        vertical-align: middle;\n",
       "    }\n",
       "\n",
       "    .dataframe tbody tr th {\n",
       "        vertical-align: top;\n",
       "    }\n",
       "\n",
       "    .dataframe thead th {\n",
       "        text-align: right;\n",
       "    }\n",
       "</style>\n",
       "<table border=\"1\" class=\"dataframe\">\n",
       "  <thead>\n",
       "    <tr style=\"text-align: right;\">\n",
       "      <th></th>\n",
       "      <th>user_id</th>\n",
       "      <th>birth_day</th>\n",
       "      <th>birth_month</th>\n",
       "      <th>birth_year</th>\n",
       "      <th>location</th>\n",
       "      <th>gender</th>\n",
       "      <th>attribution</th>\n",
       "      <th>product</th>\n",
       "      <th>intervals</th>\n",
       "      <th>purchase_date</th>\n",
       "      <th>...</th>\n",
       "      <th>art_cat</th>\n",
       "      <th>art_id</th>\n",
       "      <th>read_times</th>\n",
       "      <th>read_minutes</th>\n",
       "      <th>hour</th>\n",
       "      <th>day</th>\n",
       "      <th>week</th>\n",
       "      <th>month</th>\n",
       "      <th>prices</th>\n",
       "      <th>cost_attr</th>\n",
       "    </tr>\n",
       "  </thead>\n",
       "  <tbody>\n",
       "    <tr>\n",
       "      <th>0</th>\n",
       "      <td>2836384</td>\n",
       "      <td>13</td>\n",
       "      <td>2</td>\n",
       "      <td>1992</td>\n",
       "      <td>New York</td>\n",
       "      <td>M</td>\n",
       "      <td>Partner</td>\n",
       "      <td>6M</td>\n",
       "      <td>1</td>\n",
       "      <td>5/12/2018 11:29</td>\n",
       "      <td>...</td>\n",
       "      <td>1</td>\n",
       "      <td>11867</td>\n",
       "      <td>21</td>\n",
       "      <td>21</td>\n",
       "      <td>0.0</td>\n",
       "      <td>Wednesday</td>\n",
       "      <td>47.0</td>\n",
       "      <td>November</td>\n",
       "      <td>53.99</td>\n",
       "      <td>12.798956</td>\n",
       "    </tr>\n",
       "    <tr>\n",
       "      <th>1</th>\n",
       "      <td>2836384</td>\n",
       "      <td>13</td>\n",
       "      <td>2</td>\n",
       "      <td>1992</td>\n",
       "      <td>New York</td>\n",
       "      <td>M</td>\n",
       "      <td>Partner</td>\n",
       "      <td>6M</td>\n",
       "      <td>1</td>\n",
       "      <td>5/12/2018 11:29</td>\n",
       "      <td>...</td>\n",
       "      <td>2</td>\n",
       "      <td>28223</td>\n",
       "      <td>16</td>\n",
       "      <td>16</td>\n",
       "      <td>8.0</td>\n",
       "      <td>Friday</td>\n",
       "      <td>36.0</td>\n",
       "      <td>September</td>\n",
       "      <td>53.99</td>\n",
       "      <td>12.798956</td>\n",
       "    </tr>\n",
       "    <tr>\n",
       "      <th>2</th>\n",
       "      <td>2836384</td>\n",
       "      <td>13</td>\n",
       "      <td>2</td>\n",
       "      <td>1992</td>\n",
       "      <td>New York</td>\n",
       "      <td>M</td>\n",
       "      <td>Partner</td>\n",
       "      <td>6M</td>\n",
       "      <td>1</td>\n",
       "      <td>5/12/2018 11:29</td>\n",
       "      <td>...</td>\n",
       "      <td>6</td>\n",
       "      <td>61095</td>\n",
       "      <td>12</td>\n",
       "      <td>12</td>\n",
       "      <td>6.0</td>\n",
       "      <td>Monday</td>\n",
       "      <td>46.0</td>\n",
       "      <td>November</td>\n",
       "      <td>53.99</td>\n",
       "      <td>12.798956</td>\n",
       "    </tr>\n",
       "    <tr>\n",
       "      <th>3</th>\n",
       "      <td>2836384</td>\n",
       "      <td>13</td>\n",
       "      <td>2</td>\n",
       "      <td>1992</td>\n",
       "      <td>New York</td>\n",
       "      <td>M</td>\n",
       "      <td>Partner</td>\n",
       "      <td>6M</td>\n",
       "      <td>1</td>\n",
       "      <td>5/12/2018 11:29</td>\n",
       "      <td>...</td>\n",
       "      <td>7</td>\n",
       "      <td>71024</td>\n",
       "      <td>11</td>\n",
       "      <td>11</td>\n",
       "      <td>21.0</td>\n",
       "      <td>Thursday</td>\n",
       "      <td>44.0</td>\n",
       "      <td>November</td>\n",
       "      <td>53.99</td>\n",
       "      <td>12.798956</td>\n",
       "    </tr>\n",
       "    <tr>\n",
       "      <th>4</th>\n",
       "      <td>2836384</td>\n",
       "      <td>13</td>\n",
       "      <td>2</td>\n",
       "      <td>1992</td>\n",
       "      <td>New York</td>\n",
       "      <td>M</td>\n",
       "      <td>Partner</td>\n",
       "      <td>6M</td>\n",
       "      <td>1</td>\n",
       "      <td>5/12/2018 11:29</td>\n",
       "      <td>...</td>\n",
       "      <td>2</td>\n",
       "      <td>29103</td>\n",
       "      <td>12</td>\n",
       "      <td>12</td>\n",
       "      <td>18.0</td>\n",
       "      <td>Saturday</td>\n",
       "      <td>44.0</td>\n",
       "      <td>November</td>\n",
       "      <td>53.99</td>\n",
       "      <td>12.798956</td>\n",
       "    </tr>\n",
       "  </tbody>\n",
       "</table>\n",
       "<p>5 rows × 24 columns</p>\n",
       "</div>"
      ],
      "text/plain": [
       "   user_id  birth_day  birth_month  birth_year  location gender attribution  \\\n",
       "0  2836384         13            2        1992  New York      M     Partner   \n",
       "1  2836384         13            2        1992  New York      M     Partner   \n",
       "2  2836384         13            2        1992  New York      M     Partner   \n",
       "3  2836384         13            2        1992  New York      M     Partner   \n",
       "4  2836384         13            2        1992  New York      M     Partner   \n",
       "\n",
       "  product  intervals    purchase_date  ...  art_cat art_id  read_times  \\\n",
       "0      6M          1  5/12/2018 11:29  ...        1  11867          21   \n",
       "1      6M          1  5/12/2018 11:29  ...        2  28223          16   \n",
       "2      6M          1  5/12/2018 11:29  ...        6  61095          12   \n",
       "3      6M          1  5/12/2018 11:29  ...        7  71024          11   \n",
       "4      6M          1  5/12/2018 11:29  ...        2  29103          12   \n",
       "\n",
       "  read_minutes  hour        day  week      month  prices  cost_attr  \n",
       "0           21   0.0  Wednesday  47.0   November   53.99  12.798956  \n",
       "1           16   8.0     Friday  36.0  September   53.99  12.798956  \n",
       "2           12   6.0     Monday  46.0   November   53.99  12.798956  \n",
       "3           11  21.0   Thursday  44.0   November   53.99  12.798956  \n",
       "4           12  18.0   Saturday  44.0   November   53.99  12.798956  \n",
       "\n",
       "[5 rows x 24 columns]"
      ]
     },
     "execution_count": 103,
     "metadata": {},
     "output_type": "execute_result"
    }
   ],
   "source": [
    "all_data.head()"
   ]
  },
  {
   "cell_type": "markdown",
   "metadata": {},
   "source": [
    "### saving my manipulated main_attribution_product file"
   ]
  },
  {
   "cell_type": "code",
   "execution_count": 104,
   "metadata": {},
   "outputs": [],
   "source": [
    "#main_attribution_product.to_csv('/Users/chris/Desktop/chris_files.csv/main_attribution_product.csv',index=False)\n",
    "#all_data.to_csv('/Users/chris/Desktop/chris_files.csv/all_data.csv',index=False)"
   ]
  },
  {
   "cell_type": "markdown",
   "metadata": {},
   "source": [
    "# who are our customers? \n"
   ]
  },
  {
   "cell_type": "markdown",
   "metadata": {},
   "source": [
    "##  explore users by  gender ,agegroup ,age etc "
   ]
  },
  {
   "cell_type": "markdown",
   "metadata": {},
   "source": [
    "### Understanding the Customers' age spread"
   ]
  },
  {
   "cell_type": "code",
   "execution_count": 105,
   "metadata": {
    "scrolled": true
   },
   "outputs": [
    {
     "data": {
      "image/png": "[encoded data removed]",
      "text/plain": [
       "<Figure size 360x360 with 1 Axes>"
      ]
     },
     "metadata": {
      "needs_background": "light"
     },
     "output_type": "display_data"
    }
   ],
   "source": [
    "\n",
    "plt.figure(figsize=(5,5))\n",
    "sns.boxplot(main_attribution_product.age)\n",
    "plt.title(\"Understanding the Customers' age spread\", \n",
    "          loc = 'left',\n",
    "          pad= 30,  \n",
    "          fontsize=22, \n",
    "          fontweight=\"bold\" )\n",
    "plt.suptitle('Based on 50k sample',\n",
    "             x = 0.35,\n",
    "             y = 0.93)\n",
    "plt.text(s=' Source: Chris.py Analysis April 2020',\n",
    "         x = 0.5, \n",
    "         y = 0.7, fontsize = 9)\n",
    "plt.show()\n",
    "#There are some outlyiers, lets see the median"
   ]
  },
  {
   "cell_type": "markdown",
   "metadata": {},
   "source": [
    "### mean and median"
   ]
  },
  {
   "cell_type": "code",
   "execution_count": 106,
   "metadata": {},
   "outputs": [
    {
     "name": "stdout",
     "output_type": "stream",
     "text": [
      "33.0\n",
      "35.63696\n"
     ]
    }
   ],
   "source": [
    "print(main_attribution_product.age.median())\n",
    "print(main_attribution_product.age.mean())"
   ]
  },
  {
   "cell_type": "markdown",
   "metadata": {},
   "source": [
    "### Understanding the Customers' age spread histogram"
   ]
  },
  {
   "cell_type": "code",
   "execution_count": 107,
   "metadata": {},
   "outputs": [
    {
     "data": {
      "image/png": "[encoded data removed]",
      "text/plain": [
       "<Figure size 360x360 with 1 Axes>"
      ]
     },
     "metadata": {
      "needs_background": "light"
     },
     "output_type": "display_data"
    }
   ],
   "source": [
    "plt.figure(figsize=(5,5))\n",
    "sns.distplot(main_attribution_product.age,kde_kws={\"color\": \"k\", \"lw\": 3, \"label\": \"KDE\"})\n",
    "plt.title(\"Understanding the Customers' age spread\", \n",
    "          loc = 'left',\n",
    "          pad= 30,  \n",
    "          fontsize=22, \n",
    "          fontweight=\"bold\" )\n",
    "plt.suptitle('Based on 50k sample',\n",
    "             x = 0.35,\n",
    "             y = 0.93)\n",
    "plt.text(s=' Source: Chris.py Analysis April 2020',\n",
    "         x = 2.5, \n",
    "         y = -0.016, fontsize = 9)\n",
    "plt.show()\n"
   ]
  },
  {
   "cell_type": "markdown",
   "metadata": {},
   "source": [
    "### Understanding the Customers' agegroup spread"
   ]
  },
  {
   "cell_type": "code",
   "execution_count": 108,
   "metadata": {},
   "outputs": [
    {
     "data": {
      "image/png": "[encoded data removed]",
      "text/plain": [
       "<Figure size 360x360 with 1 Axes>"
      ]
     },
     "metadata": {
      "needs_background": "light"
     },
     "output_type": "display_data"
    }
   ],
   "source": [
    "plt.figure(figsize=(5,5))\n",
    "sns.countplot(main_attribution_product['agegroup'])\n",
    "plt.title(\"Understanding the Customers' agegroup spread\", \n",
    "          loc = 'left',\n",
    "          pad= 30,  \n",
    "          fontsize=22, \n",
    "          fontweight=\"bold\" )\n",
    "plt.suptitle('Based on 50k sample',\n",
    "             x = 0.35,\n",
    "             y = 0.93)\n",
    "plt.text(s=' Source: Chris.py Analysis April 2020',\n",
    "         x = 2.5, \n",
    "         y = 10.5, fontsize = 9)\n",
    "plt.show()"
   ]
  },
  {
   "cell_type": "markdown",
   "metadata": {},
   "source": [
    "### Understanding the Customers' agegroup/gender"
   ]
  },
  {
   "cell_type": "code",
   "execution_count": 109,
   "metadata": {},
   "outputs": [
    {
     "data": {
      "image/png": "[encoded data removed]",
      "text/plain": [
       "<Figure size 360x360 with 1 Axes>"
      ]
     },
     "metadata": {
      "needs_background": "light"
     },
     "output_type": "display_data"
    }
   ],
   "source": [
    "plt.figure(figsize=(5,5))\n",
    "sns.countplot(main_attribution_product['agegroup'], hue = main_attribution_product.gender)\n",
    "plt.title(\"Understanding the Customers' agegroup/gender spread\", \n",
    "          loc = 'left',\n",
    "          pad= 30,  \n",
    "          fontsize=22, \n",
    "          fontweight=\"bold\" )\n",
    "plt.suptitle('Based on 50k sample',\n",
    "             x = 0.35,\n",
    "             y = 0.93)\n",
    "plt.text(s=' Source: Chris.py Analysis April 2020',\n",
    "         x = 2.5, \n",
    "         y = 10.5, fontsize = 9)\n",
    "plt.show()"
   ]
  },
  {
   "cell_type": "markdown",
   "metadata": {},
   "source": [
    "### Understanding the Customers' gender spread"
   ]
  },
  {
   "cell_type": "code",
   "execution_count": 110,
   "metadata": {},
   "outputs": [
    {
     "data": {
      "image/png": "[encoded data removed]",
      "text/plain": [
       "<Figure size 360x360 with 1 Axes>"
      ]
     },
     "metadata": {
      "needs_background": "light"
     },
     "output_type": "display_data"
    }
   ],
   "source": [
    "plt.figure(figsize=(5,5))\n",
    "sns.countplot(main_attribution_product.gender)\n",
    "#sns.countplot(main_attribution_product['agegroup'], hue = main_attribution_product.gender)\n",
    "plt.title(\"Understanding the Customers' gender spread\", \n",
    "          loc = 'left',\n",
    "          pad= 30,  \n",
    "          fontsize=22, \n",
    "          fontweight=\"bold\" )\n",
    "plt.suptitle('Based on 50k sample',\n",
    "             x = 0.35,\n",
    "             y = 0.93)\n",
    "plt.text(s=' Source: Chris.py Analysis April 2020',\n",
    "         x = 1.5, \n",
    "         y = 10.5, fontsize = 9)\n",
    "plt.show()"
   ]
  },
  {
   "cell_type": "markdown",
   "metadata": {},
   "source": [
    "## Explore users by location"
   ]
  },
  {
   "cell_type": "markdown",
   "metadata": {},
   "source": [
    "### Top 10 location by users"
   ]
  },
  {
   "cell_type": "code",
   "execution_count": 111,
   "metadata": {},
   "outputs": [
    {
     "data": {
      "text/plain": [
       "location\n",
       "Philadelphia         4247\n",
       "New York             4158\n",
       "Charleston           3420\n",
       "Los Angeles          2732\n",
       "East Granby          2652\n",
       "Columbus             1935\n",
       "Weirton              1558\n",
       "Clifton Park         1528\n",
       "White Plains         1404\n",
       "Lawrence Township    1364\n",
       "Name: user_id, dtype: int64"
      ]
     },
     "execution_count": 111,
     "metadata": {},
     "output_type": "execute_result"
    }
   ],
   "source": [
    "user_location= main_attribution_product.groupby('location')[['user_id']].count()\n",
    "top_10_loc= user_location['user_id'].sort_values(ascending=False).head(10)\n",
    "top_10_loc"
   ]
  },
  {
   "cell_type": "markdown",
   "metadata": {},
   "source": [
    "### Show Top 10 location by users"
   ]
  },
  {
   "cell_type": "code",
   "execution_count": 112,
   "metadata": {},
   "outputs": [
    {
     "data": {
      "image/png": "[encoded data removed]",
      "text/plain": [
       "<Figure size 720x360 with 1 Axes>"
      ]
     },
     "metadata": {
      "needs_background": "light"
     },
     "output_type": "display_data"
    }
   ],
   "source": [
    "\n",
    "\n",
    "plt.figure(figsize=(10,5))\n",
    "sns.barplot(top_10_loc.values,top_10_loc.index )\n",
    "plt.title('Customers by location', \n",
    "          loc = 'left',\n",
    "          pad= 30,  \n",
    "          fontsize=22, \n",
    "          fontweight=\"bold\" )\n",
    "plt.suptitle('Top 10 locations',\n",
    "             x = 0.35,\n",
    "             y = 0.93)\n",
    "plt.text(s=' Source: Chris.py Analysis April 2020',\n",
    "         x = 2.5, \n",
    "         y = 10.7, fontsize = 9)\n",
    "plt.show()"
   ]
  },
  {
   "cell_type": "markdown",
   "metadata": {},
   "source": [
    "### Distribution by gender and agegroup per location\n"
   ]
  },
  {
   "cell_type": "code",
   "execution_count": 113,
   "metadata": {},
   "outputs": [
    {
     "data": {
      "text/html": [
       "<div>\n",
       "<style scoped>\n",
       "    .dataframe tbody tr th:only-of-type {\n",
       "        vertical-align: middle;\n",
       "    }\n",
       "\n",
       "    .dataframe tbody tr th {\n",
       "        vertical-align: top;\n",
       "    }\n",
       "\n",
       "    .dataframe thead th {\n",
       "        text-align: right;\n",
       "    }\n",
       "</style>\n",
       "<table border=\"1\" class=\"dataframe\">\n",
       "  <thead>\n",
       "    <tr style=\"text-align: right;\">\n",
       "      <th></th>\n",
       "      <th></th>\n",
       "      <th></th>\n",
       "      <th>user_id</th>\n",
       "    </tr>\n",
       "    <tr>\n",
       "      <th>location</th>\n",
       "      <th>gender</th>\n",
       "      <th>agegroup</th>\n",
       "      <th></th>\n",
       "    </tr>\n",
       "  </thead>\n",
       "  <tbody>\n",
       "    <tr>\n",
       "      <th rowspan=\"5\" valign=\"top\">Abington</th>\n",
       "      <th rowspan=\"2\" valign=\"top\">F</th>\n",
       "      <th>Adult</th>\n",
       "      <td>150</td>\n",
       "    </tr>\n",
       "    <tr>\n",
       "      <th>Seniors</th>\n",
       "      <td>29</td>\n",
       "    </tr>\n",
       "    <tr>\n",
       "      <th rowspan=\"3\" valign=\"top\">M</th>\n",
       "      <th>Adult</th>\n",
       "      <td>516</td>\n",
       "    </tr>\n",
       "    <tr>\n",
       "      <th>Seniors</th>\n",
       "      <td>120</td>\n",
       "    </tr>\n",
       "    <tr>\n",
       "      <th>Teens</th>\n",
       "      <td>7</td>\n",
       "    </tr>\n",
       "    <tr>\n",
       "      <th>...</th>\n",
       "      <th>...</th>\n",
       "      <th>...</th>\n",
       "      <td>...</td>\n",
       "    </tr>\n",
       "    <tr>\n",
       "      <th rowspan=\"5\" valign=\"top\">Yucaipa</th>\n",
       "      <th rowspan=\"2\" valign=\"top\">F</th>\n",
       "      <th>Seniors</th>\n",
       "      <td>31</td>\n",
       "    </tr>\n",
       "    <tr>\n",
       "      <th>Teens</th>\n",
       "      <td>4</td>\n",
       "    </tr>\n",
       "    <tr>\n",
       "      <th rowspan=\"3\" valign=\"top\">M</th>\n",
       "      <th>Adult</th>\n",
       "      <td>524</td>\n",
       "    </tr>\n",
       "    <tr>\n",
       "      <th>Seniors</th>\n",
       "      <td>108</td>\n",
       "    </tr>\n",
       "    <tr>\n",
       "      <th>Teens</th>\n",
       "      <td>2</td>\n",
       "    </tr>\n",
       "  </tbody>\n",
       "</table>\n",
       "<p>219 rows × 1 columns</p>\n",
       "</div>"
      ],
      "text/plain": [
       "                          user_id\n",
       "location gender agegroup         \n",
       "Abington F      Adult         150\n",
       "                Seniors        29\n",
       "         M      Adult         516\n",
       "                Seniors       120\n",
       "                Teens           7\n",
       "...                           ...\n",
       "Yucaipa  F      Seniors        31\n",
       "                Teens           4\n",
       "         M      Adult         524\n",
       "                Seniors       108\n",
       "                Teens           2\n",
       "\n",
       "[219 rows x 1 columns]"
      ]
     },
     "execution_count": 113,
     "metadata": {},
     "output_type": "execute_result"
    }
   ],
   "source": [
    "user_location_detailed= main_attribution_product.groupby(['location','gender','agegroup'])[['user_id']].count()\n",
    "user_location_detailed"
   ]
  },
  {
   "cell_type": "markdown",
   "metadata": {},
   "source": [
    "### Top 10 location detailed by gender and agegroup"
   ]
  },
  {
   "cell_type": "code",
   "execution_count": 114,
   "metadata": {},
   "outputs": [
    {
     "data": {
      "text/plain": [
       "location           gender  agegroup\n",
       "Philadelphia       M       Adult       2655\n",
       "New York           M       Adult       2613\n",
       "Charleston         M       Adult       2169\n",
       "Los Angeles        M       Adult       1727\n",
       "East Granby        M       Adult       1659\n",
       "Columbus           M       Adult       1231\n",
       "Weirton            M       Adult        986\n",
       "Clifton Park       M       Adult        958\n",
       "White Plains       M       Adult        856\n",
       "Lawrence Township  M       Adult        839\n",
       "Name: user_id, dtype: int64"
      ]
     },
     "execution_count": 114,
     "metadata": {},
     "output_type": "execute_result"
    }
   ],
   "source": [
    "top_10_loc_detailed = user_location_detailed['user_id'].sort_values(ascending=False).head(10)\n",
    "top_10_loc_detailed"
   ]
  },
  {
   "cell_type": "markdown",
   "metadata": {},
   "source": [
    "####  Show Top 10 location detailed by gender and agegroup"
   ]
  },
  {
   "cell_type": "code",
   "execution_count": 115,
   "metadata": {},
   "outputs": [
    {
     "data": {
      "image/png": "[encoded data removed]",
      "text/plain": [
       "<Figure size 720x360 with 1 Axes>"
      ]
     },
     "metadata": {
      "needs_background": "light"
     },
     "output_type": "display_data"
    }
   ],
   "source": [
    "plt.figure(figsize=(10,5))\n",
    "sns.barplot(top_10_loc_detailed.values,top_10_loc_detailed.index )\n",
    "plt.title('Distribution by gender and agegroup per location', \n",
    "          loc = 'left',\n",
    "          pad= 30,  \n",
    "          fontsize=22, \n",
    "          fontweight=\"bold\" )\n",
    "plt.suptitle('Top 10 locations detailed',\n",
    "             x = 0.35,\n",
    "             y = 0.93)\n",
    "plt.text(s=' Source: Chris.py Analysis April 2020',\n",
    "         x = 2.5, \n",
    "         y = 10.7, fontsize = 9)\n",
    "plt.show()"
   ]
  },
  {
   "cell_type": "markdown",
   "metadata": {},
   "source": [
    "# Where and what are we selling the most? (locations, products,revenue,profit)"
   ]
  },
  {
   "cell_type": "markdown",
   "metadata": {},
   "source": [
    "## show the product sold most"
   ]
  },
  {
   "cell_type": "code",
   "execution_count": 116,
   "metadata": {},
   "outputs": [
    {
     "data": {
      "image/png": "[encoded data removed]",
      "text/plain": [
       "<Figure size 720x360 with 1 Axes>"
      ]
     },
     "metadata": {
      "needs_background": "light"
     },
     "output_type": "display_data"
    }
   ],
   "source": [
    "main_attribution_product.groupby('product').count()\n",
    "plt.figure(figsize=(10,5))\n",
    "sns.countplot(main_attribution_product['product'])\n",
    "plt.title('sales per product', \n",
    "          loc = 'left',\n",
    "          pad= 30,  \n",
    "          fontsize=22, \n",
    "          fontweight=\"bold\" )\n",
    "plt.suptitle('Based on 50k sample',\n",
    "             x = 0.35,\n",
    "             y = 0.93)\n",
    "plt.text(s=' Source: Chris.py Analysis April 2020',\n",
    "         x = 3.5, \n",
    "         y = 10.7, fontsize = 9)\n",
    "plt.show()\n"
   ]
  },
  {
   "cell_type": "markdown",
   "metadata": {},
   "source": [
    "## Show Revenue generated per product"
   ]
  },
  {
   "cell_type": "code",
   "execution_count": 117,
   "metadata": {},
   "outputs": [
    {
     "data": {
      "text/plain": [
       "<Figure size 720x360 with 0 Axes>"
      ]
     },
     "metadata": {},
     "output_type": "display_data"
    },
    {
     "data": {
      "image/png": "[encoded data removed]",
      "text/plain": [
       "<Figure size 432x288 with 1 Axes>"
      ]
     },
     "metadata": {
      "needs_background": "light"
     },
     "output_type": "display_data"
    }
   ],
   "source": [
    "Revenue_per_product = main_attribution_product.groupby('product')[['total_user_purchase']].sum()\n",
    "plt.figure(figsize=(10,5))\n",
    "Revenue_per_product.plot(kind='bar',color = 'blue')\n",
    "plt.title('Revenue per product', \n",
    "          loc = 'left',\n",
    "          pad= 30,  \n",
    "          fontsize=22, \n",
    "          fontweight=\"bold\" )\n",
    "plt.ylabel('total revenue per prodcut in Euro')\n",
    "plt.suptitle('Based on 50k sample',\n",
    "             x = 0.35,\n",
    "             y = 0.93)\n",
    "plt.text(s=' Source: Chris.py Analysis April 2020',\n",
    "         x = 3.5, \n",
    "         y = 10.7, fontsize = 9)\n",
    "plt.show()\n"
   ]
  },
  {
   "cell_type": "markdown",
   "metadata": {},
   "source": [
    "## Top revenue locations"
   ]
  },
  {
   "cell_type": "code",
   "execution_count": 118,
   "metadata": {},
   "outputs": [
    {
     "data": {
      "text/html": [
       "<div>\n",
       "<style scoped>\n",
       "    .dataframe tbody tr th:only-of-type {\n",
       "        vertical-align: middle;\n",
       "    }\n",
       "\n",
       "    .dataframe tbody tr th {\n",
       "        vertical-align: top;\n",
       "    }\n",
       "\n",
       "    .dataframe thead th {\n",
       "        text-align: right;\n",
       "    }\n",
       "</style>\n",
       "<table border=\"1\" class=\"dataframe\">\n",
       "  <thead>\n",
       "    <tr style=\"text-align: right;\">\n",
       "      <th></th>\n",
       "      <th>total_user_purchase</th>\n",
       "    </tr>\n",
       "    <tr>\n",
       "      <th>location</th>\n",
       "      <th></th>\n",
       "    </tr>\n",
       "  </thead>\n",
       "  <tbody>\n",
       "    <tr>\n",
       "      <th>Philadelphia</th>\n",
       "      <td>399758.65</td>\n",
       "    </tr>\n",
       "    <tr>\n",
       "      <th>New York</th>\n",
       "      <td>397601.53</td>\n",
       "    </tr>\n",
       "    <tr>\n",
       "      <th>Charleston</th>\n",
       "      <td>321014.54</td>\n",
       "    </tr>\n",
       "    <tr>\n",
       "      <th>Los Angeles</th>\n",
       "      <td>257240.68</td>\n",
       "    </tr>\n",
       "    <tr>\n",
       "      <th>East Granby</th>\n",
       "      <td>252109.03</td>\n",
       "    </tr>\n",
       "    <tr>\n",
       "      <th>Columbus</th>\n",
       "      <td>183418.47</td>\n",
       "    </tr>\n",
       "    <tr>\n",
       "      <th>Weirton</th>\n",
       "      <td>146713.28</td>\n",
       "    </tr>\n",
       "    <tr>\n",
       "      <th>Clifton Park</th>\n",
       "      <td>141460.17</td>\n",
       "    </tr>\n",
       "    <tr>\n",
       "      <th>White Plains</th>\n",
       "      <td>131877.27</td>\n",
       "    </tr>\n",
       "    <tr>\n",
       "      <th>Lawrence Township</th>\n",
       "      <td>131332.87</td>\n",
       "    </tr>\n",
       "  </tbody>\n",
       "</table>\n",
       "</div>"
      ],
      "text/plain": [
       "                   total_user_purchase\n",
       "location                              \n",
       "Philadelphia                 399758.65\n",
       "New York                     397601.53\n",
       "Charleston                   321014.54\n",
       "Los Angeles                  257240.68\n",
       "East Granby                  252109.03\n",
       "Columbus                     183418.47\n",
       "Weirton                      146713.28\n",
       "Clifton Park                 141460.17\n",
       "White Plains                 131877.27\n",
       "Lawrence Township            131332.87"
      ]
     },
     "execution_count": 118,
     "metadata": {},
     "output_type": "execute_result"
    }
   ],
   "source": [
    "top_10_Revenue_per_location = main_attribution_product.groupby('location')[['total_user_purchase']].sum().sort_values('total_user_purchase',ascending=False).head(10)\n",
    "top_10_Revenue_per_location\n"
   ]
  },
  {
   "cell_type": "markdown",
   "metadata": {},
   "source": [
    "## Bottom revenue locations"
   ]
  },
  {
   "cell_type": "code",
   "execution_count": 119,
   "metadata": {},
   "outputs": [
    {
     "data": {
      "text/html": [
       "<div>\n",
       "<style scoped>\n",
       "    .dataframe tbody tr th:only-of-type {\n",
       "        vertical-align: middle;\n",
       "    }\n",
       "\n",
       "    .dataframe tbody tr th {\n",
       "        vertical-align: top;\n",
       "    }\n",
       "\n",
       "    .dataframe thead th {\n",
       "        text-align: right;\n",
       "    }\n",
       "</style>\n",
       "<table border=\"1\" class=\"dataframe\">\n",
       "  <thead>\n",
       "    <tr style=\"text-align: right;\">\n",
       "      <th></th>\n",
       "      <th>total_user_purchase</th>\n",
       "    </tr>\n",
       "    <tr>\n",
       "      <th>location</th>\n",
       "      <th></th>\n",
       "    </tr>\n",
       "  </thead>\n",
       "  <tbody>\n",
       "    <tr>\n",
       "      <th>Seattle</th>\n",
       "      <td>67533.81</td>\n",
       "    </tr>\n",
       "    <tr>\n",
       "      <th>Windsor Mill</th>\n",
       "      <td>68905.85</td>\n",
       "    </tr>\n",
       "    <tr>\n",
       "      <th>Peoria Heights</th>\n",
       "      <td>73811.89</td>\n",
       "    </tr>\n",
       "    <tr>\n",
       "      <th>Weehawken</th>\n",
       "      <td>73830.89</td>\n",
       "    </tr>\n",
       "    <tr>\n",
       "      <th>Yucaipa</th>\n",
       "      <td>75843.35</td>\n",
       "    </tr>\n",
       "    <tr>\n",
       "      <th>Clearwater</th>\n",
       "      <td>77351.47</td>\n",
       "    </tr>\n",
       "    <tr>\n",
       "      <th>Colorado Springs</th>\n",
       "      <td>79119.27</td>\n",
       "    </tr>\n",
       "    <tr>\n",
       "      <th>Voorhees</th>\n",
       "      <td>79141.10</td>\n",
       "    </tr>\n",
       "    <tr>\n",
       "      <th>Abington</th>\n",
       "      <td>80129.60</td>\n",
       "    </tr>\n",
       "    <tr>\n",
       "      <th>Lake Forest</th>\n",
       "      <td>82482.62</td>\n",
       "    </tr>\n",
       "  </tbody>\n",
       "</table>\n",
       "</div>"
      ],
      "text/plain": [
       "                  total_user_purchase\n",
       "location                             \n",
       "Seattle                      67533.81\n",
       "Windsor Mill                 68905.85\n",
       "Peoria Heights               73811.89\n",
       "Weehawken                    73830.89\n",
       "Yucaipa                      75843.35\n",
       "Clearwater                   77351.47\n",
       "Colorado Springs             79119.27\n",
       "Voorhees                     79141.10\n",
       "Abington                     80129.60\n",
       "Lake Forest                  82482.62"
      ]
     },
     "execution_count": 119,
     "metadata": {},
     "output_type": "execute_result"
    }
   ],
   "source": [
    "bottom_10_Revenue_per_location = main_attribution_product.groupby('location')[['total_user_purchase']].sum().sort_values('total_user_purchase',ascending=True).head(10)\n",
    "bottom_10_Revenue_per_location"
   ]
  },
  {
   "cell_type": "markdown",
   "metadata": {},
   "source": [
    "## Show top 10"
   ]
  },
  {
   "cell_type": "code",
   "execution_count": 120,
   "metadata": {},
   "outputs": [
    {
     "data": {
      "text/plain": [
       "<Figure size 7200x360 with 0 Axes>"
      ]
     },
     "metadata": {},
     "output_type": "display_data"
    },
    {
     "data": {
      "image/png": "[encoded data removed]",
      "text/plain": [
       "<Figure size 432x288 with 1 Axes>"
      ]
     },
     "metadata": {
      "needs_background": "light"
     },
     "output_type": "display_data"
    }
   ],
   "source": [
    "\n",
    "plt.figure(figsize=(100,5))\n",
    "top_10_Revenue_per_location.plot(kind='barh',color = 'blue')\n",
    "plt.title('Revenue per location', \n",
    "          loc = 'left',\n",
    "          pad= 30,  \n",
    "          fontsize=22, \n",
    "          fontweight=\"bold\" )\n",
    "plt.xlabel('total revenue per product in Euro')\n",
    "plt.ylabel('location')\n",
    "plt.suptitle('Top 10',\n",
    "             x = 0.35,\n",
    "             y = 0.93)\n",
    "plt.text(s=' Source: Chris.py Analysis April 2020',\n",
    "         x = 8.5, \n",
    "         y = -2.5, fontsize = 9)\n",
    "plt.show()\n"
   ]
  },
  {
   "cell_type": "markdown",
   "metadata": {},
   "source": [
    "## Show  bottom 10"
   ]
  },
  {
   "cell_type": "code",
   "execution_count": 121,
   "metadata": {},
   "outputs": [
    {
     "data": {
      "text/plain": [
       "<Figure size 7200x360 with 0 Axes>"
      ]
     },
     "metadata": {},
     "output_type": "display_data"
    },
    {
     "data": {
      "image/png": "[encoded data removed]",
      "text/plain": [
       "<Figure size 432x288 with 1 Axes>"
      ]
     },
     "metadata": {
      "needs_background": "light"
     },
     "output_type": "display_data"
    }
   ],
   "source": [
    "\n",
    "plt.figure(figsize=(100,5))\n",
    "bottom_10_Revenue_per_location.plot(kind='barh',color = 'r')\n",
    "plt.title('Revenue per location', \n",
    "          loc = 'left',\n",
    "          pad= 30,  \n",
    "          fontsize=22, \n",
    "          fontweight=\"bold\" )\n",
    "plt.xlabel('total revenue per product in Euro')\n",
    "plt.ylabel('location')\n",
    "plt.suptitle('bottom 10',\n",
    "             x = 0.35,\n",
    "             y = 0.93)\n",
    "plt.text(s=' Source: Chris.py Analysis April 2020',\n",
    "         x = 8.5, \n",
    "         y = -2.5, fontsize = 9)\n",
    "plt.show()\n"
   ]
  },
  {
   "cell_type": "markdown",
   "metadata": {},
   "source": [
    "## PROFIT of the company"
   ]
  },
  {
   "cell_type": "code",
   "execution_count": 122,
   "metadata": {},
   "outputs": [
    {
     "data": {
      "text/plain": [
       "3152323.0150000006"
      ]
     },
     "execution_count": 122,
     "metadata": {},
     "output_type": "execute_result"
    }
   ],
   "source": [
    "companyprofit =(main_attribution_product.total_user_purchase.sum() - main_attribution_product.cost_attr.sum())\n",
    "companyprofit"
   ]
  },
  {
   "cell_type": "markdown",
   "metadata": {},
   "source": [
    "## PROFIT of the company by location"
   ]
  },
  {
   "cell_type": "code",
   "execution_count": 123,
   "metadata": {},
   "outputs": [
    {
     "data": {
      "text/html": [
       "<div>\n",
       "<style scoped>\n",
       "    .dataframe tbody tr th:only-of-type {\n",
       "        vertical-align: middle;\n",
       "    }\n",
       "\n",
       "    .dataframe tbody tr th {\n",
       "        vertical-align: top;\n",
       "    }\n",
       "\n",
       "    .dataframe thead th {\n",
       "        text-align: right;\n",
       "    }\n",
       "</style>\n",
       "<table border=\"1\" class=\"dataframe\">\n",
       "  <thead>\n",
       "    <tr style=\"text-align: right;\">\n",
       "      <th></th>\n",
       "      <th>profit</th>\n",
       "    </tr>\n",
       "    <tr>\n",
       "      <th>location</th>\n",
       "      <th></th>\n",
       "    </tr>\n",
       "  </thead>\n",
       "  <tbody>\n",
       "    <tr>\n",
       "      <th>Philadelphia</th>\n",
       "      <td>246767.570476</td>\n",
       "    </tr>\n",
       "    <tr>\n",
       "      <th>New York</th>\n",
       "      <td>245686.475994</td>\n",
       "    </tr>\n",
       "    <tr>\n",
       "      <th>Charleston</th>\n",
       "      <td>198610.807895</td>\n",
       "    </tr>\n",
       "    <tr>\n",
       "      <th>Los Angeles</th>\n",
       "      <td>158033.532261</td>\n",
       "    </tr>\n",
       "    <tr>\n",
       "      <th>East Granby</th>\n",
       "      <td>154320.771488</td>\n",
       "    </tr>\n",
       "    <tr>\n",
       "      <th>Columbus</th>\n",
       "      <td>114203.264197</td>\n",
       "    </tr>\n",
       "    <tr>\n",
       "      <th>Weirton</th>\n",
       "      <td>89315.332984</td>\n",
       "    </tr>\n",
       "    <tr>\n",
       "      <th>Clifton Park</th>\n",
       "      <td>86591.857052</td>\n",
       "    </tr>\n",
       "    <tr>\n",
       "      <th>White Plains</th>\n",
       "      <td>82463.566874</td>\n",
       "    </tr>\n",
       "    <tr>\n",
       "      <th>Lawrence Township</th>\n",
       "      <td>80638.476880</td>\n",
       "    </tr>\n",
       "  </tbody>\n",
       "</table>\n",
       "</div>"
      ],
      "text/plain": [
       "                          profit\n",
       "location                        \n",
       "Philadelphia       246767.570476\n",
       "New York           245686.475994\n",
       "Charleston         198610.807895\n",
       "Los Angeles        158033.532261\n",
       "East Granby        154320.771488\n",
       "Columbus           114203.264197\n",
       "Weirton             89315.332984\n",
       "Clifton Park        86591.857052\n",
       "White Plains        82463.566874\n",
       "Lawrence Township   80638.476880"
      ]
     },
     "execution_count": 123,
     "metadata": {},
     "output_type": "execute_result"
    }
   ],
   "source": [
    "\n",
    "main_attribution_product['profit'] = (main_attribution_product.total_user_purchase - main_attribution_product.cost_attr)\n",
    "main_attribution_product.groupby('location')[['profit']].sum().sort_values('profit',ascending=False).head(10)"
   ]
  },
  {
   "cell_type": "markdown",
   "metadata": {},
   "source": [
    "# Can you identify some reading patterns? (times a day, days a week, how many times a -user goes back to an article, most liked/read articles)"
   ]
  },
  {
   "cell_type": "markdown",
   "metadata": {},
   "source": [
    "To solve this question , i used the all_data dataframe since it contains the info on articles and others columns needed.\n",
    "now i start filtering to see the pattern\n",
    "guiding questions: which day of the week are users reading most?\n",
    "which hour of the day are users reading most?\n",
    "which user read the most on the site or most active reader?\n",
    "show reading patern per day of week?\n",
    "how many times users goes back to an article?\n",
    "the reading pattern per location?"
   ]
  },
  {
   "cell_type": "markdown",
   "metadata": {},
   "source": [
    "## Identify pattern by hour"
   ]
  },
  {
   "cell_type": "code",
   "execution_count": 124,
   "metadata": {},
   "outputs": [
    {
     "data": {
      "text/html": [
       "<div>\n",
       "<style scoped>\n",
       "    .dataframe tbody tr th:only-of-type {\n",
       "        vertical-align: middle;\n",
       "    }\n",
       "\n",
       "    .dataframe tbody tr th {\n",
       "        vertical-align: top;\n",
       "    }\n",
       "\n",
       "    .dataframe thead th {\n",
       "        text-align: right;\n",
       "    }\n",
       "</style>\n",
       "<table border=\"1\" class=\"dataframe\">\n",
       "  <thead>\n",
       "    <tr style=\"text-align: right;\">\n",
       "      <th></th>\n",
       "      <th>read_times</th>\n",
       "    </tr>\n",
       "    <tr>\n",
       "      <th>hour</th>\n",
       "      <th></th>\n",
       "    </tr>\n",
       "  </thead>\n",
       "  <tbody>\n",
       "    <tr>\n",
       "      <th>8.0</th>\n",
       "      <td>127917</td>\n",
       "    </tr>\n",
       "    <tr>\n",
       "      <th>7.0</th>\n",
       "      <td>110201</td>\n",
       "    </tr>\n",
       "    <tr>\n",
       "      <th>9.0</th>\n",
       "      <td>95797</td>\n",
       "    </tr>\n",
       "    <tr>\n",
       "      <th>18.0</th>\n",
       "      <td>87755</td>\n",
       "    </tr>\n",
       "    <tr>\n",
       "      <th>20.0</th>\n",
       "      <td>63148</td>\n",
       "    </tr>\n",
       "    <tr>\n",
       "      <th>23.0</th>\n",
       "      <td>60156</td>\n",
       "    </tr>\n",
       "    <tr>\n",
       "      <th>17.0</th>\n",
       "      <td>54932</td>\n",
       "    </tr>\n",
       "    <tr>\n",
       "      <th>22.0</th>\n",
       "      <td>49615</td>\n",
       "    </tr>\n",
       "    <tr>\n",
       "      <th>19.0</th>\n",
       "      <td>47467</td>\n",
       "    </tr>\n",
       "    <tr>\n",
       "      <th>21.0</th>\n",
       "      <td>29365</td>\n",
       "    </tr>\n",
       "    <tr>\n",
       "      <th>11.0</th>\n",
       "      <td>28365</td>\n",
       "    </tr>\n",
       "    <tr>\n",
       "      <th>12.0</th>\n",
       "      <td>28170</td>\n",
       "    </tr>\n",
       "    <tr>\n",
       "      <th>13.0</th>\n",
       "      <td>25186</td>\n",
       "    </tr>\n",
       "    <tr>\n",
       "      <th>15.0</th>\n",
       "      <td>25178</td>\n",
       "    </tr>\n",
       "    <tr>\n",
       "      <th>14.0</th>\n",
       "      <td>22604</td>\n",
       "    </tr>\n",
       "    <tr>\n",
       "      <th>10.0</th>\n",
       "      <td>16922</td>\n",
       "    </tr>\n",
       "    <tr>\n",
       "      <th>16.0</th>\n",
       "      <td>15674</td>\n",
       "    </tr>\n",
       "    <tr>\n",
       "      <th>4.0</th>\n",
       "      <td>15365</td>\n",
       "    </tr>\n",
       "    <tr>\n",
       "      <th>2.0</th>\n",
       "      <td>14050</td>\n",
       "    </tr>\n",
       "    <tr>\n",
       "      <th>0.0</th>\n",
       "      <td>12605</td>\n",
       "    </tr>\n",
       "    <tr>\n",
       "      <th>6.0</th>\n",
       "      <td>10008</td>\n",
       "    </tr>\n",
       "    <tr>\n",
       "      <th>5.0</th>\n",
       "      <td>7064</td>\n",
       "    </tr>\n",
       "    <tr>\n",
       "      <th>3.0</th>\n",
       "      <td>5569</td>\n",
       "    </tr>\n",
       "    <tr>\n",
       "      <th>1.0</th>\n",
       "      <td>2793</td>\n",
       "    </tr>\n",
       "  </tbody>\n",
       "</table>\n",
       "</div>"
      ],
      "text/plain": [
       "      read_times\n",
       "hour            \n",
       "8.0       127917\n",
       "7.0       110201\n",
       "9.0        95797\n",
       "18.0       87755\n",
       "20.0       63148\n",
       "23.0       60156\n",
       "17.0       54932\n",
       "22.0       49615\n",
       "19.0       47467\n",
       "21.0       29365\n",
       "11.0       28365\n",
       "12.0       28170\n",
       "13.0       25186\n",
       "15.0       25178\n",
       "14.0       22604\n",
       "10.0       16922\n",
       "16.0       15674\n",
       "4.0        15365\n",
       "2.0        14050\n",
       "0.0        12605\n",
       "6.0        10008\n",
       "5.0         7064\n",
       "3.0         5569\n",
       "1.0         2793"
      ]
     },
     "execution_count": 124,
     "metadata": {},
     "output_type": "execute_result"
    }
   ],
   "source": [
    "all_data.groupby('hour')[['read_times']].count().sort_values('read_times',ascending=False) #users read more between 7 - 9am\n"
   ]
  },
  {
   "cell_type": "markdown",
   "metadata": {},
   "source": [
    "## Identify pattern by day"
   ]
  },
  {
   "cell_type": "code",
   "execution_count": 125,
   "metadata": {},
   "outputs": [
    {
     "data": {
      "text/html": [
       "<div>\n",
       "<style scoped>\n",
       "    .dataframe tbody tr th:only-of-type {\n",
       "        vertical-align: middle;\n",
       "    }\n",
       "\n",
       "    .dataframe tbody tr th {\n",
       "        vertical-align: top;\n",
       "    }\n",
       "\n",
       "    .dataframe thead th {\n",
       "        text-align: right;\n",
       "    }\n",
       "</style>\n",
       "<table border=\"1\" class=\"dataframe\">\n",
       "  <thead>\n",
       "    <tr style=\"text-align: right;\">\n",
       "      <th></th>\n",
       "      <th>read_times</th>\n",
       "    </tr>\n",
       "    <tr>\n",
       "      <th>day</th>\n",
       "      <th></th>\n",
       "    </tr>\n",
       "  </thead>\n",
       "  <tbody>\n",
       "    <tr>\n",
       "      <th>Thursday</th>\n",
       "      <td>151309</td>\n",
       "    </tr>\n",
       "    <tr>\n",
       "      <th>Sunday</th>\n",
       "      <td>150422</td>\n",
       "    </tr>\n",
       "    <tr>\n",
       "      <th>Wednesday</th>\n",
       "      <td>141362</td>\n",
       "    </tr>\n",
       "    <tr>\n",
       "      <th>Tuesday</th>\n",
       "      <td>132158</td>\n",
       "    </tr>\n",
       "    <tr>\n",
       "      <th>Friday</th>\n",
       "      <td>129499</td>\n",
       "    </tr>\n",
       "    <tr>\n",
       "      <th>Saturday</th>\n",
       "      <td>126614</td>\n",
       "    </tr>\n",
       "    <tr>\n",
       "      <th>Monday</th>\n",
       "      <td>124542</td>\n",
       "    </tr>\n",
       "  </tbody>\n",
       "</table>\n",
       "</div>"
      ],
      "text/plain": [
       "           read_times\n",
       "day                  \n",
       "Thursday       151309\n",
       "Sunday         150422\n",
       "Wednesday      141362\n",
       "Tuesday        132158\n",
       "Friday         129499\n",
       "Saturday       126614\n",
       "Monday         124542"
      ]
     },
     "execution_count": 125,
     "metadata": {},
     "output_type": "execute_result"
    }
   ],
   "source": [
    "all_data.groupby('day')[['read_times']].count().sort_values('read_times',ascending=False) #user read most on thurdays and sunday"
   ]
  },
  {
   "cell_type": "markdown",
   "metadata": {},
   "source": [
    "## 5 Most active readers"
   ]
  },
  {
   "cell_type": "code",
   "execution_count": 126,
   "metadata": {},
   "outputs": [
    {
     "data": {
      "text/html": [
       "<div>\n",
       "<style scoped>\n",
       "    .dataframe tbody tr th:only-of-type {\n",
       "        vertical-align: middle;\n",
       "    }\n",
       "\n",
       "    .dataframe tbody tr th {\n",
       "        vertical-align: top;\n",
       "    }\n",
       "\n",
       "    .dataframe thead th {\n",
       "        text-align: right;\n",
       "    }\n",
       "</style>\n",
       "<table border=\"1\" class=\"dataframe\">\n",
       "  <thead>\n",
       "    <tr style=\"text-align: right;\">\n",
       "      <th></th>\n",
       "      <th>read_minutes</th>\n",
       "    </tr>\n",
       "    <tr>\n",
       "      <th>user_id</th>\n",
       "      <th></th>\n",
       "    </tr>\n",
       "  </thead>\n",
       "  <tbody>\n",
       "    <tr>\n",
       "      <th>3125436</th>\n",
       "      <td>997</td>\n",
       "    </tr>\n",
       "    <tr>\n",
       "      <th>9641172</th>\n",
       "      <td>954</td>\n",
       "    </tr>\n",
       "    <tr>\n",
       "      <th>3535149</th>\n",
       "      <td>949</td>\n",
       "    </tr>\n",
       "    <tr>\n",
       "      <th>5562041</th>\n",
       "      <td>945</td>\n",
       "    </tr>\n",
       "    <tr>\n",
       "      <th>7862284</th>\n",
       "      <td>939</td>\n",
       "    </tr>\n",
       "  </tbody>\n",
       "</table>\n",
       "</div>"
      ],
      "text/plain": [
       "         read_minutes\n",
       "user_id              \n",
       "3125436           997\n",
       "9641172           954\n",
       "3535149           949\n",
       "5562041           945\n",
       "7862284           939"
      ]
     },
     "execution_count": 126,
     "metadata": {},
     "output_type": "execute_result"
    }
   ],
   "source": [
    "all_data.groupby(['user_id'])[['read_minutes']].sum().sort_values('read_minutes',ascending=False).head(5)"
   ]
  },
  {
   "cell_type": "markdown",
   "metadata": {},
   "source": [
    "## Showing these trends"
   ]
  },
  {
   "cell_type": "markdown",
   "metadata": {},
   "source": [
    "### Show daily trends"
   ]
  },
  {
   "cell_type": "code",
   "execution_count": 127,
   "metadata": {},
   "outputs": [
    {
     "data": {
      "image/png": "[encoded data removed]",
      "text/plain": [
       "<Figure size 720x360 with 1 Axes>"
      ]
     },
     "metadata": {
      "needs_background": "light"
     },
     "output_type": "display_data"
    }
   ],
   "source": [
    "\n",
    "dailytrend = all_data.groupby('day')[['read_times']].count().sort_values('read_times',ascending=False) #user read most on thurdays\n",
    "dailytrend.reset_index(inplace= True)\n",
    "\n",
    "plt.figure(figsize=(10,5))\n",
    "sns.barplot(x='day', y = 'read_times', data = dailytrend)\n",
    "plt.title('Dailytrend', \n",
    "          loc = 'left',\n",
    "          pad= 30,  \n",
    "          fontsize=22, \n",
    "          fontweight=\"bold\" )\n",
    "plt.xlabel('Day of the week')\n",
    "plt.ylabel('read per day')\n",
    "plt.suptitle('Based on how many times users come online to read ',\n",
    "             x = 0.34,\n",
    "             y = 0.93)\n",
    "plt.text(s=' Source: Chris.py Analysis April 2020',\n",
    "         x = 6.5, \n",
    "         y = 10.5, fontsize = 9)\n",
    "plt.show()\n",
    "\n"
   ]
  },
  {
   "cell_type": "markdown",
   "metadata": {},
   "source": [
    "### Show hour trend"
   ]
  },
  {
   "cell_type": "code",
   "execution_count": 128,
   "metadata": {},
   "outputs": [
    {
     "data": {
      "image/png": "[encoded data removed]",
      "text/plain": [
       "<Figure size 720x360 with 1 Axes>"
      ]
     },
     "metadata": {
      "needs_background": "light"
     },
     "output_type": "display_data"
    }
   ],
   "source": [
    "hourtrend = all_data.groupby('hour')[['read_times']].count().sort_values('read_times',ascending=False).reset_index()\n",
    "\n",
    "plt.figure(figsize=(10,5))\n",
    "sns.barplot(x='hour', y = 'read_times', data = hourtrend)\n",
    "plt.title('Hourly trend', \n",
    "          loc = 'left',\n",
    "          pad= 30,  \n",
    "          fontsize=22, \n",
    "          fontweight=\"bold\" )\n",
    "plt.xlabel('Day of the week')\n",
    "plt.ylabel('read per hour')\n",
    "plt.suptitle('Based on how many times users come online to read ',\n",
    "             x = 0.34,\n",
    "             y = 0.93)\n",
    "plt.text(s=' Source: Chris.py Analysis April 2020',\n",
    "         x = 23.5, \n",
    "         y = 25.5, fontsize = 9)\n",
    "plt.show()\n",
    "\n"
   ]
  },
  {
   "cell_type": "markdown",
   "metadata": {},
   "source": [
    " ## Average time an article is read"
   ]
  },
  {
   "cell_type": "code",
   "execution_count": 129,
   "metadata": {},
   "outputs": [
    {
     "data": {
      "text/plain": [
       "1203.020757020757"
      ]
     },
     "execution_count": 129,
     "metadata": {},
     "output_type": "execute_result"
    }
   ],
   "source": [
    "article_repeat = all_data.groupby(['art_id'])[['read_times']].count().reset_index()\n",
    "article_repeat.read_times.mean() #the averarge repeat time per article is 1203.02 "
   ]
  },
  {
   "cell_type": "markdown",
   "metadata": {},
   "source": [
    " ## Average time users read"
   ]
  },
  {
   "cell_type": "code",
   "execution_count": 130,
   "metadata": {},
   "outputs": [
    {
     "data": {
      "text/plain": [
       "read_times    38.573151\n",
       "dtype: float64"
      ]
     },
     "execution_count": 130,
     "metadata": {},
     "output_type": "execute_result"
    }
   ],
   "source": [
    "all_data.groupby(['user_id'])[['read_times']].count().mean()\n",
    "#User read an average of 38.5 times"
   ]
  },
  {
   "cell_type": "markdown",
   "metadata": {},
   "source": [
    " ## Average time users repeat an article"
   ]
  },
  {
   "cell_type": "code",
   "execution_count": 131,
   "metadata": {},
   "outputs": [
    {
     "data": {
      "text/plain": [
       "read_times    1.023889\n",
       "dtype: float64"
      ]
     },
     "execution_count": 131,
     "metadata": {},
     "output_type": "execute_result"
    }
   ],
   "source": [
    "all_data.groupby(['user_id','art_id',])[['read_times']].count().mean()\n",
    "\n"
   ]
  },
  {
   "cell_type": "markdown",
   "metadata": {},
   "source": [
    "## Most liked/read articles)\n",
    "\n",
    "To get the most liked"
   ]
  },
  {
   "cell_type": "code",
   "execution_count": 132,
   "metadata": {},
   "outputs": [
    {
     "data": {
      "text/html": [
       "<div>\n",
       "<style scoped>\n",
       "    .dataframe tbody tr th:only-of-type {\n",
       "        vertical-align: middle;\n",
       "    }\n",
       "\n",
       "    .dataframe tbody tr th {\n",
       "        vertical-align: top;\n",
       "    }\n",
       "\n",
       "    .dataframe thead th {\n",
       "        text-align: right;\n",
       "    }\n",
       "</style>\n",
       "<table border=\"1\" class=\"dataframe\">\n",
       "  <thead>\n",
       "    <tr style=\"text-align: right;\">\n",
       "      <th></th>\n",
       "      <th>user_id</th>\n",
       "      <th>birth_day</th>\n",
       "      <th>birth_month</th>\n",
       "      <th>birth_year</th>\n",
       "      <th>location</th>\n",
       "      <th>gender</th>\n",
       "      <th>attribution</th>\n",
       "      <th>product</th>\n",
       "      <th>intervals</th>\n",
       "      <th>purchase_date</th>\n",
       "      <th>...</th>\n",
       "      <th>art_cat</th>\n",
       "      <th>art_id</th>\n",
       "      <th>read_times</th>\n",
       "      <th>read_minutes</th>\n",
       "      <th>hour</th>\n",
       "      <th>day</th>\n",
       "      <th>week</th>\n",
       "      <th>month</th>\n",
       "      <th>prices</th>\n",
       "      <th>cost_attr</th>\n",
       "    </tr>\n",
       "  </thead>\n",
       "  <tbody>\n",
       "    <tr>\n",
       "      <th>0</th>\n",
       "      <td>2836384</td>\n",
       "      <td>13</td>\n",
       "      <td>2</td>\n",
       "      <td>1992</td>\n",
       "      <td>New York</td>\n",
       "      <td>M</td>\n",
       "      <td>Partner</td>\n",
       "      <td>6M</td>\n",
       "      <td>1</td>\n",
       "      <td>5/12/2018 11:29</td>\n",
       "      <td>...</td>\n",
       "      <td>1</td>\n",
       "      <td>11867</td>\n",
       "      <td>21</td>\n",
       "      <td>21</td>\n",
       "      <td>0.0</td>\n",
       "      <td>Wednesday</td>\n",
       "      <td>47.0</td>\n",
       "      <td>November</td>\n",
       "      <td>53.99</td>\n",
       "      <td>12.798956</td>\n",
       "    </tr>\n",
       "    <tr>\n",
       "      <th>2</th>\n",
       "      <td>2836384</td>\n",
       "      <td>13</td>\n",
       "      <td>2</td>\n",
       "      <td>1992</td>\n",
       "      <td>New York</td>\n",
       "      <td>M</td>\n",
       "      <td>Partner</td>\n",
       "      <td>6M</td>\n",
       "      <td>1</td>\n",
       "      <td>5/12/2018 11:29</td>\n",
       "      <td>...</td>\n",
       "      <td>6</td>\n",
       "      <td>61095</td>\n",
       "      <td>12</td>\n",
       "      <td>12</td>\n",
       "      <td>6.0</td>\n",
       "      <td>Monday</td>\n",
       "      <td>46.0</td>\n",
       "      <td>November</td>\n",
       "      <td>53.99</td>\n",
       "      <td>12.798956</td>\n",
       "    </tr>\n",
       "    <tr>\n",
       "      <th>3</th>\n",
       "      <td>2836384</td>\n",
       "      <td>13</td>\n",
       "      <td>2</td>\n",
       "      <td>1992</td>\n",
       "      <td>New York</td>\n",
       "      <td>M</td>\n",
       "      <td>Partner</td>\n",
       "      <td>6M</td>\n",
       "      <td>1</td>\n",
       "      <td>5/12/2018 11:29</td>\n",
       "      <td>...</td>\n",
       "      <td>7</td>\n",
       "      <td>71024</td>\n",
       "      <td>11</td>\n",
       "      <td>11</td>\n",
       "      <td>21.0</td>\n",
       "      <td>Thursday</td>\n",
       "      <td>44.0</td>\n",
       "      <td>November</td>\n",
       "      <td>53.99</td>\n",
       "      <td>12.798956</td>\n",
       "    </tr>\n",
       "  </tbody>\n",
       "</table>\n",
       "<p>3 rows × 24 columns</p>\n",
       "</div>"
      ],
      "text/plain": [
       "   user_id  birth_day  birth_month  birth_year  location gender attribution  \\\n",
       "0  2836384         13            2        1992  New York      M     Partner   \n",
       "2  2836384         13            2        1992  New York      M     Partner   \n",
       "3  2836384         13            2        1992  New York      M     Partner   \n",
       "\n",
       "  product  intervals    purchase_date  ...  art_cat art_id  read_times  \\\n",
       "0      6M          1  5/12/2018 11:29  ...        1  11867          21   \n",
       "2      6M          1  5/12/2018 11:29  ...        6  61095          12   \n",
       "3      6M          1  5/12/2018 11:29  ...        7  71024          11   \n",
       "\n",
       "  read_minutes  hour        day  week     month  prices  cost_attr  \n",
       "0           21   0.0  Wednesday  47.0  November   53.99  12.798956  \n",
       "2           12   6.0     Monday  46.0  November   53.99  12.798956  \n",
       "3           11  21.0   Thursday  44.0  November   53.99  12.798956  \n",
       "\n",
       "[3 rows x 24 columns]"
      ]
     },
     "execution_count": 132,
     "metadata": {},
     "output_type": "execute_result"
    }
   ],
   "source": [
    "liked_article = all_data[(all_data.liked == 1)] \n",
    "liked_article.head(3)"
   ]
  },
  {
   "cell_type": "markdown",
   "metadata": {},
   "source": [
    "### The most liked article"
   ]
  },
  {
   "cell_type": "code",
   "execution_count": 133,
   "metadata": {},
   "outputs": [
    {
     "data": {
      "text/html": [
       "<div>\n",
       "<style scoped>\n",
       "    .dataframe tbody tr th:only-of-type {\n",
       "        vertical-align: middle;\n",
       "    }\n",
       "\n",
       "    .dataframe tbody tr th {\n",
       "        vertical-align: top;\n",
       "    }\n",
       "\n",
       "    .dataframe thead th {\n",
       "        text-align: right;\n",
       "    }\n",
       "</style>\n",
       "<table border=\"1\" class=\"dataframe\">\n",
       "  <thead>\n",
       "    <tr style=\"text-align: right;\">\n",
       "      <th></th>\n",
       "      <th>liked</th>\n",
       "    </tr>\n",
       "    <tr>\n",
       "      <th>art_id</th>\n",
       "      <th></th>\n",
       "    </tr>\n",
       "  </thead>\n",
       "  <tbody>\n",
       "    <tr>\n",
       "      <th>60605</th>\n",
       "      <td>801</td>\n",
       "    </tr>\n",
       "    <tr>\n",
       "      <th>70174</th>\n",
       "      <td>797</td>\n",
       "    </tr>\n",
       "    <tr>\n",
       "      <th>51798</th>\n",
       "      <td>797</td>\n",
       "    </tr>\n",
       "    <tr>\n",
       "      <th>70894</th>\n",
       "      <td>789</td>\n",
       "    </tr>\n",
       "    <tr>\n",
       "      <th>11757</th>\n",
       "      <td>787</td>\n",
       "    </tr>\n",
       "    <tr>\n",
       "      <th>...</th>\n",
       "      <td>...</td>\n",
       "    </tr>\n",
       "    <tr>\n",
       "      <th>52388</th>\n",
       "      <td>659</td>\n",
       "    </tr>\n",
       "    <tr>\n",
       "      <th>52518</th>\n",
       "      <td>658</td>\n",
       "    </tr>\n",
       "    <tr>\n",
       "      <th>11927</th>\n",
       "      <td>656</td>\n",
       "    </tr>\n",
       "    <tr>\n",
       "      <th>42862</th>\n",
       "      <td>652</td>\n",
       "    </tr>\n",
       "    <tr>\n",
       "      <th>43832</th>\n",
       "      <td>637</td>\n",
       "    </tr>\n",
       "  </tbody>\n",
       "</table>\n",
       "<p>819 rows × 1 columns</p>\n",
       "</div>"
      ],
      "text/plain": [
       "        liked\n",
       "art_id       \n",
       "60605     801\n",
       "70174     797\n",
       "51798     797\n",
       "70894     789\n",
       "11757     787\n",
       "...       ...\n",
       "52388     659\n",
       "52518     658\n",
       "11927     656\n",
       "42862     652\n",
       "43832     637\n",
       "\n",
       "[819 rows x 1 columns]"
      ]
     },
     "execution_count": 133,
     "metadata": {},
     "output_type": "execute_result"
    }
   ],
   "source": [
    "liked_article.groupby('art_id')[['liked']].count().sort_values('liked',ascending=False)\n",
    "#60605 - 801 likes"
   ]
  },
  {
   "cell_type": "markdown",
   "metadata": {},
   "source": [
    "### The most read articles\n"
   ]
  },
  {
   "cell_type": "code",
   "execution_count": 134,
   "metadata": {},
   "outputs": [
    {
     "data": {
      "text/html": [
       "<div>\n",
       "<style scoped>\n",
       "    .dataframe tbody tr th:only-of-type {\n",
       "        vertical-align: middle;\n",
       "    }\n",
       "\n",
       "    .dataframe tbody tr th {\n",
       "        vertical-align: top;\n",
       "    }\n",
       "\n",
       "    .dataframe thead th {\n",
       "        text-align: right;\n",
       "    }\n",
       "</style>\n",
       "<table border=\"1\" class=\"dataframe\">\n",
       "  <thead>\n",
       "    <tr style=\"text-align: right;\">\n",
       "      <th></th>\n",
       "      <th>read_times</th>\n",
       "    </tr>\n",
       "    <tr>\n",
       "      <th>art_id</th>\n",
       "      <th></th>\n",
       "    </tr>\n",
       "  </thead>\n",
       "  <tbody>\n",
       "    <tr>\n",
       "      <th>11757</th>\n",
       "      <td>1299</td>\n",
       "    </tr>\n",
       "    <tr>\n",
       "      <th>36204</th>\n",
       "      <td>1297</td>\n",
       "    </tr>\n",
       "    <tr>\n",
       "      <th>52238</th>\n",
       "      <td>1293</td>\n",
       "    </tr>\n",
       "    <tr>\n",
       "      <th>70564</th>\n",
       "      <td>1287</td>\n",
       "    </tr>\n",
       "    <tr>\n",
       "      <th>11637</th>\n",
       "      <td>1285</td>\n",
       "    </tr>\n",
       "    <tr>\n",
       "      <th>...</th>\n",
       "      <td>...</td>\n",
       "    </tr>\n",
       "    <tr>\n",
       "      <th>29023</th>\n",
       "      <td>1114</td>\n",
       "    </tr>\n",
       "    <tr>\n",
       "      <th>12357</th>\n",
       "      <td>1112</td>\n",
       "    </tr>\n",
       "    <tr>\n",
       "      <th>29043</th>\n",
       "      <td>1111</td>\n",
       "    </tr>\n",
       "    <tr>\n",
       "      <th>52518</th>\n",
       "      <td>1111</td>\n",
       "    </tr>\n",
       "    <tr>\n",
       "      <th>43322</th>\n",
       "      <td>1097</td>\n",
       "    </tr>\n",
       "  </tbody>\n",
       "</table>\n",
       "<p>819 rows × 1 columns</p>\n",
       "</div>"
      ],
      "text/plain": [
       "        read_times\n",
       "art_id            \n",
       "11757         1299\n",
       "36204         1297\n",
       "52238         1293\n",
       "70564         1287\n",
       "11637         1285\n",
       "...            ...\n",
       "29023         1114\n",
       "12357         1112\n",
       "29043         1111\n",
       "52518         1111\n",
       "43322         1097\n",
       "\n",
       "[819 rows x 1 columns]"
      ]
     },
     "execution_count": 134,
     "metadata": {},
     "output_type": "execute_result"
    }
   ],
   "source": [
    "all_data.groupby('art_id')[['read_times']].count().sort_values('read_times',ascending=False)\n",
    "#article 11757 was read 1299 times\n"
   ]
  },
  {
   "cell_type": "markdown",
   "metadata": {},
   "source": [
    "### Showing top 5 most liked article"
   ]
  },
  {
   "cell_type": "code",
   "execution_count": 135,
   "metadata": {},
   "outputs": [
    {
     "data": {
      "text/plain": [
       "<Figure size 720x360 with 0 Axes>"
      ]
     },
     "metadata": {},
     "output_type": "display_data"
    },
    {
     "data": {
      "image/png": "[encoded data removed]",
      "text/plain": [
       "<Figure size 432x288 with 1 Axes>"
      ]
     },
     "metadata": {
      "needs_background": "light"
     },
     "output_type": "display_data"
    }
   ],
   "source": [
    "liked_article_chart = liked_article.groupby('art_id')[['liked']].count().sort_values('liked',ascending=False).head(5)\n",
    "plt.figure(figsize=(10,5))\n",
    "liked_article_chart.plot(kind='bar',color = 'g')\n",
    "plt.title('most liked article', \n",
    "          loc = 'left',\n",
    "          pad= 30,  \n",
    "          fontsize=22, \n",
    "          fontweight=\"bold\" )\n",
    "plt.xlabel('Article number')\n",
    "plt.ylabel('Number of times article was liked')\n",
    "plt.suptitle('top 5 most liked ',\n",
    "             x = 0.34,\n",
    "             y = 0.93)\n",
    "plt.text(s=' Source: Chris.py Analysis April 2020',\n",
    "         x = 4.5, \n",
    "         y = 2.5, fontsize = 9)\n",
    "plt.show()\n"
   ]
  },
  {
   "cell_type": "markdown",
   "metadata": {},
   "source": [
    "### Showing top 5 most read article"
   ]
  },
  {
   "cell_type": "code",
   "execution_count": 136,
   "metadata": {},
   "outputs": [
    {
     "data": {
      "text/plain": [
       "<Figure size 720x360 with 0 Axes>"
      ]
     },
     "metadata": {},
     "output_type": "display_data"
    },
    {
     "data": {
      "image/png": "[encoded data removed]",
      "text/plain": [
       "<Figure size 432x288 with 1 Axes>"
      ]
     },
     "metadata": {
      "needs_background": "light"
     },
     "output_type": "display_data"
    }
   ],
   "source": [
    "most_read_chart = all_data.groupby('art_id')[['read_times']].count().sort_values('read_times',ascending=False).head(5)\n",
    "plt.figure(figsize=(10,5))\n",
    "most_read_chart.plot(kind='bar',color = 'b')\n",
    "plt.title('most read article', \n",
    "          loc = 'left',\n",
    "          pad= 30,  \n",
    "          fontsize=22, \n",
    "          fontweight=\"bold\" )\n",
    "plt.xlabel('Article number')\n",
    "plt.ylabel('Number of times article was read')\n",
    "plt.suptitle('top 5 most liked ',\n",
    "             x = 0.34,\n",
    "             y = 0.93)\n",
    "plt.text(s=' Source: Chris.py Analysis April 2020',\n",
    "         x = 4.5, \n",
    "         y = 2.5, fontsize = 9)\n",
    "plt.show()\n"
   ]
  },
  {
   "cell_type": "markdown",
   "metadata": {},
   "source": [
    "# What is the correlation between article reading length - liked - times read?"
   ]
  },
  {
   "cell_type": "markdown",
   "metadata": {},
   "source": [
    "## Correlate the read lenght and read times"
   ]
  },
  {
   "cell_type": "code",
   "execution_count": 137,
   "metadata": {},
   "outputs": [
    {
     "data": {
      "text/html": [
       "<div>\n",
       "<style scoped>\n",
       "    .dataframe tbody tr th:only-of-type {\n",
       "        vertical-align: middle;\n",
       "    }\n",
       "\n",
       "    .dataframe tbody tr th {\n",
       "        vertical-align: top;\n",
       "    }\n",
       "\n",
       "    .dataframe thead th {\n",
       "        text-align: right;\n",
       "    }\n",
       "</style>\n",
       "<table border=\"1\" class=\"dataframe\">\n",
       "  <thead>\n",
       "    <tr style=\"text-align: right;\">\n",
       "      <th></th>\n",
       "      <th>read_minutes</th>\n",
       "      <th>read_times</th>\n",
       "    </tr>\n",
       "  </thead>\n",
       "  <tbody>\n",
       "    <tr>\n",
       "      <th>read_minutes</th>\n",
       "      <td>1.000000</td>\n",
       "      <td>0.046857</td>\n",
       "    </tr>\n",
       "    <tr>\n",
       "      <th>read_times</th>\n",
       "      <td>0.046857</td>\n",
       "      <td>1.000000</td>\n",
       "    </tr>\n",
       "  </tbody>\n",
       "</table>\n",
       "</div>"
      ],
      "text/plain": [
       "              read_minutes  read_times\n",
       "read_minutes      1.000000    0.046857\n",
       "read_times        0.046857    1.000000"
      ]
     },
     "execution_count": 137,
     "metadata": {},
     "output_type": "execute_result"
    }
   ],
   "source": [
    "correlate = liked_article.groupby(['art_id']).agg({'read_minutes': 'sum','read_times': 'count'})\n",
    "correlate.corr()\n"
   ]
  },
  {
   "cell_type": "markdown",
   "metadata": {},
   "source": [
    "## show the correlation"
   ]
  },
  {
   "cell_type": "code",
   "execution_count": 138,
   "metadata": {},
   "outputs": [
    {
     "data": {
      "text/plain": [
       "<seaborn.axisgrid.FacetGrid at 0x1c38fb74508>"
      ]
     },
     "execution_count": 138,
     "metadata": {},
     "output_type": "execute_result"
    },
    {
     "data": {
      "image/png": "[encoded data removed]",
      "text/plain": [
       "<Figure size 360x360 with 1 Axes>"
      ]
     },
     "metadata": {
      "needs_background": "light"
     },
     "output_type": "display_data"
    }
   ],
   "source": [
    "sns.lmplot('read_times','read_minutes',correlate,\n",
    "          scatter_kws={'marker': 'o','color': 'indianred'},\n",
    "          line_kws = {'linewidth': 1,'color': 'blue'})\n",
    "\n",
    "\n",
    "#There is an insignificant relation ."
   ]
  },
  {
   "cell_type": "markdown",
   "metadata": {},
   "source": [
    "# Bonus - Which marketing channels are performing well?"
   ]
  },
  {
   "cell_type": "markdown",
   "metadata": {},
   "source": [
    "## Channel cost performance"
   ]
  },
  {
   "cell_type": "code",
   "execution_count": 139,
   "metadata": {},
   "outputs": [
    {
     "data": {
      "text/html": [
       "<div>\n",
       "<style scoped>\n",
       "    .dataframe tbody tr th:only-of-type {\n",
       "        vertical-align: middle;\n",
       "    }\n",
       "\n",
       "    .dataframe tbody tr th {\n",
       "        vertical-align: top;\n",
       "    }\n",
       "\n",
       "    .dataframe thead th {\n",
       "        text-align: right;\n",
       "    }\n",
       "</style>\n",
       "<table border=\"1\" class=\"dataframe\">\n",
       "  <thead>\n",
       "    <tr style=\"text-align: right;\">\n",
       "      <th></th>\n",
       "      <th>Criteo</th>\n",
       "      <th>TV</th>\n",
       "      <th>Facebook</th>\n",
       "      <th>Adwords</th>\n",
       "      <th>Instagram</th>\n",
       "      <th>Partner</th>\n",
       "    </tr>\n",
       "  </thead>\n",
       "  <tbody>\n",
       "    <tr>\n",
       "      <th>&gt;&gt;&gt;</th>\n",
       "      <td>39.597603</td>\n",
       "      <td>51.813472</td>\n",
       "      <td>38.194444</td>\n",
       "      <td>6.670002</td>\n",
       "      <td>43.920191</td>\n",
       "      <td>12.798956</td>\n",
       "    </tr>\n",
       "  </tbody>\n",
       "</table>\n",
       "</div>"
      ],
      "text/plain": [
       "        Criteo         TV   Facebook   Adwords  Instagram    Partner\n",
       ">>>  39.597603  51.813472  38.194444  6.670002  43.920191  12.798956"
      ]
     },
     "execution_count": 139,
     "metadata": {},
     "output_type": "execute_result"
    }
   ],
   "source": [
    "efficient_map= {'Criteo':185000/4672,'TV':30000/579,'Facebook':550000/14400,'Adwords':40000/5997,'Instagram':700000/15938,'Partner':76051.395/5942}\n",
    "channel_performance = pd.DataFrame(efficient_map,index=['>>>'])\n",
    "channel_performance\n",
    "#Adwords is the most efficient channel "
   ]
  },
  {
   "cell_type": "markdown",
   "metadata": {},
   "source": [
    "## check quality of customer from different channels"
   ]
  },
  {
   "cell_type": "code",
   "execution_count": 140,
   "metadata": {},
   "outputs": [
    {
     "data": {
      "text/html": [
       "<div>\n",
       "<style scoped>\n",
       "    .dataframe tbody tr th:only-of-type {\n",
       "        vertical-align: middle;\n",
       "    }\n",
       "\n",
       "    .dataframe tbody tr th {\n",
       "        vertical-align: top;\n",
       "    }\n",
       "\n",
       "    .dataframe thead th {\n",
       "        text-align: right;\n",
       "    }\n",
       "</style>\n",
       "<table border=\"1\" class=\"dataframe\">\n",
       "  <thead>\n",
       "    <tr style=\"text-align: right;\">\n",
       "      <th></th>\n",
       "      <th>total_user_purchase</th>\n",
       "    </tr>\n",
       "    <tr>\n",
       "      <th>attribution</th>\n",
       "      <th></th>\n",
       "    </tr>\n",
       "  </thead>\n",
       "  <tbody>\n",
       "    <tr>\n",
       "      <th>Instagram</th>\n",
       "      <td>95.114417</td>\n",
       "    </tr>\n",
       "    <tr>\n",
       "      <th>Friends Referral Program</th>\n",
       "      <td>94.737981</td>\n",
       "    </tr>\n",
       "    <tr>\n",
       "      <th>Facebook</th>\n",
       "      <td>94.591593</td>\n",
       "    </tr>\n",
       "    <tr>\n",
       "      <th>Adwords</th>\n",
       "      <td>94.359873</td>\n",
       "    </tr>\n",
       "    <tr>\n",
       "      <th>Partner</th>\n",
       "      <td>94.352642</td>\n",
       "    </tr>\n",
       "    <tr>\n",
       "      <th>Criteo</th>\n",
       "      <td>94.325452</td>\n",
       "    </tr>\n",
       "    <tr>\n",
       "      <th>TV</th>\n",
       "      <td>93.128722</td>\n",
       "    </tr>\n",
       "  </tbody>\n",
       "</table>\n",
       "</div>"
      ],
      "text/plain": [
       "                          total_user_purchase\n",
       "attribution                                  \n",
       "Instagram                           95.114417\n",
       "Friends Referral Program            94.737981\n",
       "Facebook                            94.591593\n",
       "Adwords                             94.359873\n",
       "Partner                             94.352642\n",
       "Criteo                              94.325452\n",
       "TV                                  93.128722"
      ]
     },
     "execution_count": 140,
     "metadata": {},
     "output_type": "execute_result"
    }
   ],
   "source": [
    "main_attribution_product.groupby('attribution')[['total_user_purchase']].mean().sort_values('total_user_purchase',ascending=False).head(10)\n",
    "#users per channel spending is fairly same but instagram users purchased more. \n",
    "#However the Friends Referral Program is worth of continuation"
   ]
  },
  {
   "cell_type": "code",
   "execution_count": 141,
   "metadata": {},
   "outputs": [
    {
     "data": {
      "text/html": [
       "<div>\n",
       "<style scoped>\n",
       "    .dataframe tbody tr th:only-of-type {\n",
       "        vertical-align: middle;\n",
       "    }\n",
       "\n",
       "    .dataframe tbody tr th {\n",
       "        vertical-align: top;\n",
       "    }\n",
       "\n",
       "    .dataframe thead th {\n",
       "        text-align: right;\n",
       "    }\n",
       "</style>\n",
       "<table border=\"1\" class=\"dataframe\">\n",
       "  <thead>\n",
       "    <tr style=\"text-align: right;\">\n",
       "      <th></th>\n",
       "      <th>user_id</th>\n",
       "    </tr>\n",
       "    <tr>\n",
       "      <th>attribution</th>\n",
       "      <th></th>\n",
       "    </tr>\n",
       "  </thead>\n",
       "  <tbody>\n",
       "    <tr>\n",
       "      <th>Adwords</th>\n",
       "      <td>5997</td>\n",
       "    </tr>\n",
       "    <tr>\n",
       "      <th>Criteo</th>\n",
       "      <td>4672</td>\n",
       "    </tr>\n",
       "    <tr>\n",
       "      <th>Facebook</th>\n",
       "      <td>14400</td>\n",
       "    </tr>\n",
       "    <tr>\n",
       "      <th>Friends Referral Program</th>\n",
       "      <td>2472</td>\n",
       "    </tr>\n",
       "    <tr>\n",
       "      <th>Instagram</th>\n",
       "      <td>15938</td>\n",
       "    </tr>\n",
       "    <tr>\n",
       "      <th>Partner</th>\n",
       "      <td>5942</td>\n",
       "    </tr>\n",
       "    <tr>\n",
       "      <th>TV</th>\n",
       "      <td>579</td>\n",
       "    </tr>\n",
       "  </tbody>\n",
       "</table>\n",
       "</div>"
      ],
      "text/plain": [
       "                          user_id\n",
       "attribution                      \n",
       "Adwords                      5997\n",
       "Criteo                       4672\n",
       "Facebook                    14400\n",
       "Friends Referral Program     2472\n",
       "Instagram                   15938\n",
       "Partner                      5942\n",
       "TV                            579"
      ]
     },
     "execution_count": 141,
     "metadata": {},
     "output_type": "execute_result"
    }
   ],
   "source": [
    "main_attribution_product.groupby('attribution')[['user_id']].count()"
   ]
  },
  {
   "cell_type": "markdown",
   "metadata": {},
   "source": [
    "# Recommendations"
   ]
  },
  {
   "cell_type": "markdown",
   "metadata": {},
   "source": [
    "1. The company needs to develop articles that will attract ladies to the site. Prehaps direct the channels to target females \n",
    "2. Teenagers also needs to be attracted to the site(teenagers share of the compnay is low)\n",
    "3. 3 month product is selling best\n",
    "4. The company is in profit and all location are profitable , i recommend the discontinuation of vouchers\n",
    "5. Identify similar articles to the most read articles and suggest it to users . This will help with customer satifaction.\n",
    "6. Channel Adwords is more cost effecient . Its cost the channel 6.6 euro to get a new user and the quality of their users are similar to channels like instagram and facebook with high cost per users. Highly recomments that their  budget is increased"
   ]
  }
 ],
 "metadata": {
  "kernelspec": {
   "display_name": "Python 3",
   "language": "python",
   "name": "python3"
  },
  "language_info": {
   "codemirror_mode": {
    "name": "ipython",
    "version": 3
   },
   "file_extension": ".py",
   "mimetype": "text/x-python",
   "name": "python",
   "nbconvert_exporter": "python",
   "pygments_lexer": "ipython3",
   "version": "3.7.4"
  },
  "toc": {
   "base_numbering": 1,
   "nav_menu": {
    "height": "12px",
    "width": "239px"
   },
   "number_sections": true,
   "sideBar": true,
   "skip_h1_title": false,
   "title_cell": "Table of Contents",
   "title_sidebar": "Contents",
   "toc_cell": false,
   "toc_position": {
    "height": "calc(100% - 180px)",
    "left": "10px",
    "top": "150px",
    "width": "165px"
   },
   "toc_section_display": true,
   "toc_window_display": true
  }
 },
 "nbformat": 4,
 "nbformat_minor": 2
}
